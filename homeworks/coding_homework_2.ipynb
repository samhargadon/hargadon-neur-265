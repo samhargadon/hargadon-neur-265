{
  "nbformat": 4,
  "nbformat_minor": 0,
  "metadata": {
    "colab": {
      "provenance": [],
      "include_colab_link": true
    },
    "kernelspec": {
      "name": "python3",
      "display_name": "Python 3"
    },
    "language_info": {
      "name": "python"
    }
  },
  "cells": [
    {
      "cell_type": "markdown",
      "metadata": {
        "id": "view-in-github",
        "colab_type": "text"
      },
      "source": [
        "<a href=\"https://colab.research.google.com/github/samhargadon/hargadon-neur-265/blob/main/Hargadon_Coding_Homework_2.ipynb\" target=\"_parent\"><img src=\"https://colab.research.google.com/assets/colab-badge.svg\" alt=\"Open In Colab\"/></a>"
      ]
    },
    {
      "cell_type": "markdown",
      "source": [
        "# Coding Homework #2\n",
        "\n",
        "**Instructions:**\n",
        "\n",
        "1. Make a *Markdown Cell* that contains the following information:\n",
        "- Your name (small header)\n",
        "- The name of this class (italicized)\n",
        "- The date (bolded)\n",
        "\n",
        "2. Make a *Code Cell* that imports <code>numpy</code> as <code>np</code>, <code>matplotlib.pyplot</code> as <code>plt</code>, <code>statistics</code> as <code>st</code>.\n",
        "\n",
        "3. Make a *Code Cell* that imports your <code>v_rest_sst.csv</code> and <code>v_rest_pvalb.csv</code> files as <code>numpy</code> arrays called <code>v_rest1</code> and <code>v_rest2</code> respectively. You're used to doing this with the <code>pd.read_csv</code> function for <code>pandas</code>, but can accomplish the same thing using the <code>np.loadtxt</code> function for <code>numpy</code>.\n",
        "\n",
        "4. Make a *Code Cell* that concatenates <code>v_rest_sst</code> and <code>v_rest_pvalb</code> into a matrix with 2 rows and 13 columns named <code>v_rest</code>.\n",
        "\n",
        "5. Make a *Code Cell* that prints the <code>size</code> of <code>v_rest</code>.\n",
        "\n",
        "6. Make a *Code Cell* that returns the first row of <code>v_rest</code>.\n",
        "\n",
        "7. Make a *Code Cell* that returns the sum of the values in the third column of <code>v_rest</code>. You can accomplish this by using <code>v_rest[].sum()</code>, with your index inside of the brackets. As an example, if I wanted to return the sum of the first row of <code>v_rest</code>, I could use <code>v_rest[0].sum()</code> to get my answer.\n",
        "\n",
        "8. Make a *Code Cell* that returns the second-to-last value in the second row of <code>v_rest</code> (use negative indexing for the column value).\n",
        "\n",
        "9. Create a *Code Cell* that makes a histogram of the values in the first row of <code>v_rest</code> (you can do this by using the <code>plt.hist()</code> function). Label your axes.\n",
        "\n",
        "10. Create a *Code Cell* that takes the mean of the values in the first row of <code>v_rest</code>, and assigns the mean to a variable called <code>v_rest_mean_sst</code>. Do the same thing for the second row of <code>v_rest</code>, and assign the mean value of the second row to a variable called <code>v_rest_mean_pvalb</code>. You can get the means by using the <code>st.mean()</code> function (remember to put what you want the mean *of* inside the parentheses of the function).\n",
        "\n",
        "11. Create a *Markdown Cell* that describes the difference in means between the two rows. Which one is bigger?\n",
        "\n",
        "12. How can we test whether the difference in means is *meaningful* (statistically significant)? When we're comparing two means, we can use a t-test (assuming the data are normally distributed). To use a t-test on our data, we will first need to import the <code>scipy</code> package. Create a new *Code Cell* that runs the following:\n",
        "\n",
        "<code>\n",
        "import scipy.stats as stats\n",
        "</code>\n",
        "\n",
        "13. Now, we can perform a t-test on the two rows of <code>v_rest</code>. To do this, create a new *Code Cell* that uses the <code>stats.ttest_ind()</code> function - for example:\n",
        "\n",
        "<code>\n",
        "stats.ttest_ind(row1, row2)\n",
        "</code>\n",
        "\n",
        "Replace <code>row1</code> and <code>row2</code> in this case with the first and second rows, respectively, of <code>v_rest</code>.\n",
        "\n",
        "14. Make a *Markdown Cell* that describes the results of your t-test. You should have <code>statistic</code> variable and a <code>pvalue</code> variable. The way to interpret your p-value is as a probability - specifically, the probability that the mean of one distribution could be found in the second distribution. Typically, results are considered to be \"statistically significant\" if the probability is lower than 5% - or 0.05. What is your p-value? Based on this p-value, do you think it is likely that the means are significantly different, or do you think it is likely that they are not?\n",
        "\n",
        "15. Make sure to add at least one line with a <code>#</code> in front of it to each *Code Cell* to describe what each cell does.\n",
        "\n",
        "15. Save a copy of this notebook to your GitHub repo with the title \"coding_homework_2.ipynb\"."
      ],
      "metadata": {
        "id": "CXEcCBSA_prs"
      }
    },
    {
      "cell_type": "markdown",
      "source": [
        "## Sam Hargadon\n",
        "*Neural Data Analysis*\n",
        "\n",
        "**2/16/24**"
      ],
      "metadata": {
        "id": "RrCFZC9n_PkR"
      }
    },
    {
      "cell_type": "code",
      "source": [
        "# Import programs\n",
        "\n",
        "import numpy as np\n",
        "\n",
        "from matplotlib import pyplot as plt\n",
        "\n",
        "import statistics as st"
      ],
      "metadata": {
        "id": "MKHcF0fz_f1b"
      },
      "execution_count": 63,
      "outputs": []
    },
    {
      "cell_type": "code",
      "source": [
        "# Import csv files\n",
        "\n",
        "url1 = 'https://raw.githubusercontent.com/samhargadon/neural-data-analysis/main/v_rest_sst.csv'\n",
        "url2 = 'https://raw.githubusercontent.com/samhargadon/neural-data-analysis/main/v_rest_pvalb.csv'\n",
        "\n",
        "# Turn csv files into Numpy Arrays\n",
        "\n",
        "v_rest1 = np.loadtxt(url1)\n",
        "v_rest2 = np.loadtxt(url2)"
      ],
      "metadata": {
        "id": "F6_-U9Cs_7Su"
      },
      "execution_count": 64,
      "outputs": []
    },
    {
      "cell_type": "code",
      "source": [
        "# Concatenate v_rest_sst and v_rest_pvalb into a matrix with 2 rows and 13  columns named v_rest\n",
        "\n",
        "v_rest = np.vstack((v_rest1, v_rest2))"
      ],
      "metadata": {
        "id": "57oW2ufnAxvJ"
      },
      "execution_count": 65,
      "outputs": []
    },
    {
      "cell_type": "code",
      "source": [
        "# Print size of v_rest\n",
        "\n",
        "print(v_rest.shape)"
      ],
      "metadata": {
        "colab": {
          "base_uri": "https://localhost:8080/"
        },
        "id": "SlH4ij3YOXc9",
        "outputId": "016abd6d-e932-4ca0-c18a-b85e8bdd6784"
      },
      "execution_count": 66,
      "outputs": [
        {
          "output_type": "stream",
          "name": "stdout",
          "text": [
            "(2, 500)\n"
          ]
        }
      ]
    },
    {
      "cell_type": "code",
      "source": [
        "# Return first row of v_rest\n",
        "v_rest[0]"
      ],
      "metadata": {
        "colab": {
          "base_uri": "https://localhost:8080/"
        },
        "id": "-kpr6ZLsObyP",
        "outputId": "0fbf5be6-66c1-4b10-a6aa-557d1fc8d388"
      },
      "execution_count": 67,
      "outputs": [
        {
          "output_type": "execute_result",
          "data": {
            "text/plain": [
              "array([-68.24292501, -69.60158234, -76.03420105, -71.16118393,\n",
              "       -76.35402679, -70.89105013, -64.11880341, -72.8632112 ,\n",
              "       -78.96890068, -55.4531032 , -60.98506045, -66.61118807,\n",
              "       -67.08294233, -73.90523593, -74.63317594, -49.27067811,\n",
              "       -76.05053997, -65.45417595, -58.53314018, -66.28985665,\n",
              "       -64.09106996, -71.49303228, -65.11718958, -73.74140637,\n",
              "       -74.81462097, -71.32343356, -74.46990373, -65.03939126,\n",
              "       -71.94757271, -73.42034054, -71.10602856, -61.28795481,\n",
              "       -73.79654069, -64.48533249, -69.65824959, -73.71225967,\n",
              "       -85.56860669, -57.49219704, -76.91730436, -62.61127641,\n",
              "       -67.08071963, -78.45983535, -78.87342682, -76.14055703,\n",
              "       -62.40101166, -72.41336346, -62.03701146, -63.30990855,\n",
              "       -62.02654052, -73.0206111 , -63.11713295, -70.05060087,\n",
              "       -75.7537974 , -57.15310111, -72.52368011, -70.86691952,\n",
              "       -65.435009  , -66.87690226, -70.79107895, -71.34088898,\n",
              "       -65.70912288, -64.45794886, -62.82061958, -65.03326961,\n",
              "       -61.37704976, -71.51313705, -71.54903143, -83.53790652,\n",
              "       -68.49228492, -69.6041454 , -62.87747123, -74.85636139,\n",
              "       -54.73170166, -77.69460564, -64.62669296, -69.86093764,\n",
              "       -65.05587959, -68.77862973, -55.09686799, -66.43248901,\n",
              "       -56.96581353, -69.26803801, -72.17841131, -68.15136888,\n",
              "       -62.40134335, -60.88494746, -67.52377574, -70.86518784,\n",
              "       -60.37558556, -88.07835484, -59.87615204, -73.54752265,\n",
              "       -73.22287681, -69.20818329, -72.5652504 , -70.59999847,\n",
              "       -60.50078994, -72.06522716, -59.86587448, -75.3170912 ,\n",
              "       -59.54461755, -67.08496857, -65.39528111, -72.42956266,\n",
              "       -70.31389809, -68.58932749, -64.41320763, -59.71260695,\n",
              "       -77.1351532 , -65.23381297, -65.59081745, -67.45707495,\n",
              "       -66.36160748, -69.11232405, -72.0341507 , -63.74525209,\n",
              "       -72.22005615, -74.53474903, -75.80813876, -68.57572492,\n",
              "       -67.76632908, -68.33153229, -65.0000782 , -61.31007123,\n",
              "       -70.38363711, -75.21349452, -63.93945265, -72.44995975,\n",
              "       -67.84818796, -60.75012856, -74.52876698, -58.75748374,\n",
              "       -63.62677956, -61.27915421, -61.88136782, -69.50416565,\n",
              "       -65.48161261, -59.51444321, -68.14450607, -79.98264482,\n",
              "       -60.29387808, -64.53368239, -64.32379866, -68.16503319,\n",
              "       -68.43512115, -69.27951126, -69.25867123, -75.92359585,\n",
              "       -72.16330643, -66.97145081, -64.70171102, -63.16646576,\n",
              "       -71.3835907 , -70.25067673, -69.39896698, -69.10929616,\n",
              "       -68.25655556, -66.67168172, -60.07902273, -75.34607488,\n",
              "       -56.48171266, -71.57238159, -75.29644945, -63.4872715 ,\n",
              "       -70.2859887 , -69.15053219, -60.01669629, -73.11348131,\n",
              "       -63.27917904, -68.5346199 , -65.1023201 , -79.2661764 ,\n",
              "       -69.39909539, -63.99562073, -74.55087619, -62.03189447,\n",
              "       -65.36183412, -69.7470011 , -56.53311094, -66.24339167,\n",
              "       -67.40492467, -74.242669  , -55.67033844, -56.17936802,\n",
              "       -67.32936605, -77.79993508, -72.25501033, -75.37292099,\n",
              "       -67.87254791, -70.51520538, -72.24223883, -61.91494092,\n",
              "       -63.10700573, -70.11395749, -59.62518438, -61.07293565,\n",
              "       -51.48458519, -66.30011495, -79.81865276, -80.47326313,\n",
              "       -70.21170722, -64.76855554, -65.17264252, -73.82059937,\n",
              "       -67.45876736, -64.06676356, -72.68288345, -61.09326384,\n",
              "       -64.45072937, -56.06753604, -71.78608357, -71.08746084,\n",
              "       -68.76479001, -68.22115262, -68.05053647, -67.01037035,\n",
              "       -63.44297791, -70.18627319, -71.17393694, -67.56193314,\n",
              "       -65.94196548, -69.35439563, -75.1126297 , -70.54532089,\n",
              "       -73.57199443, -74.43336001, -65.50297601, -75.38870392,\n",
              "       -71.66182917, -61.10637689, -66.40493556, -66.43192749,\n",
              "       -80.73605042, -62.14216163, -72.01909637, -70.91654544,\n",
              "       -62.3392334 , -81.69101477, -69.96053399, -65.84853134,\n",
              "       -73.33995946, -63.73537896, -60.27147055, -62.66623402,\n",
              "       -64.57504411, -68.95984968, -72.16342392, -62.49135617,\n",
              "       -74.09387803, -62.27021815, -77.16373634, -67.14715358,\n",
              "       -71.76218414, -74.6996069 , -55.91194509, -67.88657475,\n",
              "       -71.77863948, -66.01525116, -60.59973621, -68.52263919,\n",
              "       -64.5441308 , -70.13085709, -77.52351227, -55.34079132,\n",
              "       -72.18524725, -86.77562783, -67.9360644 , -69.28638535,\n",
              "       -70.6541008 , -70.23201158, -60.4083581 , -66.13476732,\n",
              "       -70.55075302, -49.78505271, -67.98327347, -65.67074169,\n",
              "       -72.35991391, -66.36555758, -74.09958649, -66.98343849,\n",
              "       -69.30653672, -65.99296739, -64.6806149 , -69.28155073,\n",
              "       -70.42871649, -69.09191449, -60.46000748, -74.58024258,\n",
              "       -65.33491211, -50.25564528, -55.44765759, -50.36280881,\n",
              "       -63.75266605, -70.60820493, -61.13761784, -70.36430359,\n",
              "       -67.04978943, -71.19510055, -77.00703291, -68.26411379,\n",
              "       -66.00462283, -70.07391957, -71.62137858, -71.7874332 ,\n",
              "       -76.30630938, -60.28225867, -71.63561249, -67.07541171,\n",
              "       -68.42366028, -60.86039352, -64.6570694 , -75.40260792,\n",
              "       -70.40130823, -69.32685158, -79.68514845, -70.70703888,\n",
              "       -68.66031799, -74.66502211, -67.81319787, -56.81200676,\n",
              "       -60.9640185 , -72.88499832, -67.97509596, -66.31971169,\n",
              "       -72.43728104, -56.13793329, -72.60331847, -62.1170595 ,\n",
              "       -61.97661448, -67.1221199 , -72.292733  , -64.22607846,\n",
              "       -71.82912514, -73.648194  , -66.424031  , -66.82951951,\n",
              "       -72.83542252, -57.5851863 , -66.32573353, -57.08322837,\n",
              "       -62.37359662, -70.3766098 , -69.43260956, -62.45441402,\n",
              "       -64.45186494, -57.80003773, -62.04276228, -77.0738074 ,\n",
              "       -68.1209276 , -75.88807996, -67.26108282, -69.11968013,\n",
              "       -74.37515869, -62.93898434, -70.95106824, -54.99522885,\n",
              "       -72.22157634, -76.04053151, -79.18465146, -60.43568254,\n",
              "       -59.22009418, -68.76816644, -63.44908142, -61.32748371,\n",
              "       -66.95791039, -60.75041903, -75.14695168, -60.22303645,\n",
              "       -77.87049802, -68.18396274, -74.11492496, -68.1586007 ,\n",
              "       -69.94304148, -56.4172821 , -74.09026395, -60.26861191,\n",
              "       -73.97230391, -62.21378775, -70.09690772, -55.74768947,\n",
              "       -60.12852454, -66.79418894, -76.95547824, -58.26898982,\n",
              "       -62.67567444, -72.87303607, -68.06471316, -62.13996744,\n",
              "       -72.39876472, -58.95242786, -64.55444736, -66.18260023,\n",
              "       -65.52816486, -70.67696014, -70.54809125, -76.54103317,\n",
              "       -55.3401304 , -61.91234504, -70.67062912, -80.05899217,\n",
              "       -73.32479512, -70.2712532 , -76.20295664, -68.89843157,\n",
              "       -58.0158577 , -77.40057712, -61.54638789, -61.68333594,\n",
              "       -62.55176375, -75.11889725, -70.63572475, -74.85720215,\n",
              "       -62.27771105, -67.64397091, -59.81836367, -80.20595551,\n",
              "       -69.36550199, -63.0047102 , -62.80444603, -75.27484989,\n",
              "       -50.13717963, -68.12047291, -65.01060104, -71.11690598,\n",
              "       -72.38392019, -55.57158589, -63.23344231, -71.04920543,\n",
              "       -57.33995507, -63.30730565, -66.32695829, -74.86869748,\n",
              "       -70.70181732, -67.93252563, -76.14720688, -69.44239977,\n",
              "       -75.81846965, -74.73778915, -69.16428833, -69.48479557,\n",
              "       -74.80890619, -65.17894516, -62.46923065, -70.08757401,\n",
              "       -63.39532979, -55.42611847, -76.69519565, -72.68961889,\n",
              "       -62.72665405, -67.61907806, -64.10990257, -49.38241653,\n",
              "       -65.74585724, -66.28070927, -57.46869787, -74.37116623,\n",
              "       -62.83219029, -72.76856842, -68.28082969, -67.96047974,\n",
              "       -71.36225433, -61.56610574, -62.06179905, -70.01165009,\n",
              "       -60.7418967 , -75.5251298 , -73.36918085, -69.75941953,\n",
              "       -69.24364471, -64.0903511 , -61.43107054, -60.47599173,\n",
              "       -64.72915268, -70.2181954 , -69.20141525, -63.20739661,\n",
              "       -68.61875916, -68.11631088, -59.28414764, -63.15457802,\n",
              "       -72.22069778, -66.47199631, -68.23392868, -70.19525077,\n",
              "       -68.07510185, -64.44202688, -55.4433185 , -73.79512177,\n",
              "       -74.20893012, -71.13765508, -65.88638077, -59.97906952,\n",
              "       -69.03668698, -76.39529724, -71.92047254, -75.48787231,\n",
              "       -68.59447988, -69.71809673, -65.59535842, -75.10678711])"
            ]
          },
          "metadata": {},
          "execution_count": 67
        }
      ]
    },
    {
      "cell_type": "code",
      "source": [
        "# Return sum of values in third column of v_rest\n",
        "\n",
        "v_rest[:,2].sum()"
      ],
      "metadata": {
        "colab": {
          "base_uri": "https://localhost:8080/"
        },
        "id": "9Spkkia_Omzu",
        "outputId": "5fce8fda-0d8c-4356-d306-a49c12d870f9"
      },
      "execution_count": 68,
      "outputs": [
        {
          "output_type": "execute_result",
          "data": {
            "text/plain": [
              "-151.75359464"
            ]
          },
          "metadata": {},
          "execution_count": 68
        }
      ]
    },
    {
      "cell_type": "code",
      "source": [
        "# Return second to last value in second row\n",
        "\n",
        "v_rest[1,-2]"
      ],
      "metadata": {
        "colab": {
          "base_uri": "https://localhost:8080/"
        },
        "id": "k8BtBntDSCUC",
        "outputId": "0dcaa12e-57e6-4166-da13-c4b3fa784f87"
      },
      "execution_count": 69,
      "outputs": [
        {
          "output_type": "execute_result",
          "data": {
            "text/plain": [
              "-49.80412917"
            ]
          },
          "metadata": {},
          "execution_count": 69
        }
      ]
    },
    {
      "cell_type": "code",
      "source": [
        "# Make histogram of values of first row\n",
        "\n",
        "plt.hist(v_rest[0])\n",
        "\n",
        "# Label axes\n",
        "\n",
        "plt.xlabel('V-rest for Sst')\n",
        "plt.ylabel('Frequency')"
      ],
      "metadata": {
        "colab": {
          "base_uri": "https://localhost:8080/",
          "height": 467
        },
        "id": "QhAxg5m1UrRz",
        "outputId": "7fa0a607-dc40-4372-fcf8-2a3e71de0ce7"
      },
      "execution_count": 70,
      "outputs": [
        {
          "output_type": "execute_result",
          "data": {
            "text/plain": [
              "Text(0, 0.5, 'Frequency')"
            ]
          },
          "metadata": {},
          "execution_count": 70
        },
        {
          "output_type": "display_data",
          "data": {
            "text/plain": [
              "<Figure size 640x480 with 1 Axes>"
            ],
            "image/png": "[encoded data removed]"
          },
          "metadata": {}
        }
      ]
    },
    {
      "cell_type": "code",
      "source": [
        "# Take mean of values in first row\n",
        "\n",
        "v_rest_mean_sst = st.mean(v_rest[0])\n",
        "\n",
        "# Take mean of values in second row\n",
        "\n",
        "v_rest_mean_pvalb = st.mean(v_rest[1])\n",
        "\n",
        "# Print means\n",
        "\n",
        "print(v_rest_mean_sst)\n",
        "print(v_rest_mean_pvalb)"
      ],
      "metadata": {
        "colab": {
          "base_uri": "https://localhost:8080/"
        },
        "id": "pl2dcEMaW46y",
        "outputId": "1edce7eb-cc76-4ab4-e3ca-d853f1bd8599"
      },
      "execution_count": 71,
      "outputs": [
        {
          "output_type": "stream",
          "name": "stdout",
          "text": [
            "-67.73465864056\n",
            "-69.97869017908\n"
          ]
        }
      ]
    },
    {
      "cell_type": "markdown",
      "source": [
        "These means are both negative, but the mean of pvalb is more negative than the mean of sst, meaning it has a more negative resting membrane potential and is further away from an action potential."
      ],
      "metadata": {
        "id": "NhbmsTEEXgSm"
      }
    },
    {
      "cell_type": "code",
      "source": [
        "# Import stats\n",
        "\n",
        "import scipy.stats as stats"
      ],
      "metadata": {
        "id": "4PHFrAeWYtjp"
      },
      "execution_count": 72,
      "outputs": []
    },
    {
      "cell_type": "code",
      "source": [
        "# Perform a t-test\n",
        "\n",
        "stats.ttest_ind(v_rest[0], v_rest[1])"
      ],
      "metadata": {
        "colab": {
          "base_uri": "https://localhost:8080/"
        },
        "id": "csgPanC3ZOWn",
        "outputId": "297b3548-3695-4443-e056-968bff2c612e"
      },
      "execution_count": 73,
      "outputs": [
        {
          "output_type": "execute_result",
          "data": {
            "text/plain": [
              "TtestResult(statistic=5.837507010328816, pvalue=7.159828660199036e-09, df=998.0)"
            ]
          },
          "metadata": {},
          "execution_count": 73
        }
      ]
    },
    {
      "cell_type": "markdown",
      "source": [
        "The p-value is 7.16, which is higher than 5, so these results are not statistically significant. I do not think it is likely that these two means are not significantly different based on this p-value."
      ],
      "metadata": {
        "id": "XMD_CbPWZhiy"
      }
    }
  ]
}
