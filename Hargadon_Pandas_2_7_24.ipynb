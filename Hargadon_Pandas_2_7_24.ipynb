{
  "nbformat": 4,
  "nbformat_minor": 0,
  "metadata": {
    "colab": {
      "provenance": [],
      "include_colab_link": true
    },
    "kernelspec": {
      "name": "python3",
      "display_name": "Python 3"
    },
    "language_info": {
      "name": "python"
    }
  },
  "cells": [
    {
      "cell_type": "markdown",
      "metadata": {
        "id": "view-in-github",
        "colab_type": "text"
      },
      "source": [
        "<a href=\"https://colab.research.google.com/github/samhargadon/neural-data-analysis/blob/main/Hargadon_Pandas_2_7_24.ipynb\" target=\"_parent\"><img src=\"https://colab.research.google.com/assets/colab-badge.svg\" alt=\"Open In Colab\"/></a>"
      ]
    },
    {
      "cell_type": "markdown",
      "source": [
        "# Pandas\n",
        "\n",
        "In this notebook, we'll encounter another package for scientific computing in Python: Pandas.\n",
        "\n",
        "**At the end of this notebook, you'll be able to:**\n",
        "\n",
        "* Create & manipulate Pandas dataframes"
      ],
      "metadata": {
        "id": "OWFmCohfhrBG"
      }
    },
    {
      "cell_type": "markdown",
      "source": [
        "## Importing packages\n",
        "\n",
        "Before we can use pandas, we need to import it. We can also nickname modules when we import them.\n",
        "\n",
        "The convention is to import `pandas` as `pd`."
      ],
      "metadata": {
        "id": "wLYMwpO4iLAg"
      }
    },
    {
      "cell_type": "code",
      "source": [
        "# Import pandas here!\n",
        "import pandas as pd\n",
        "\n",
        "\n",
        "# Use whos 'magic command' to see available modules\n",
        "%whos"
      ],
      "metadata": {
        "id": "AAh2nlvPidKe",
        "colab": {
          "base_uri": "https://localhost:8080/"
        },
        "outputId": "8da9c1eb-440e-4499-c415-2df009777393"
      },
      "execution_count": 44,
      "outputs": [
        {
          "output_type": "stream",
          "name": "stdout",
          "text": [
            "Variable               Type         Data/Info\n",
            "---------------------------------------------\n",
            "ISI_array              ndarray      140: 140 elems, type `float64`, 1120 bytes\n",
            "ISI_cell_temp_counts   Series       77.0    1\\n12.0    1\\n56.<...> Length: 66, dtype: int64\n",
            "ISI_counts             Series       13.0    8\\n8.0     5\\n25.<...> Length: 66, dtype: int64\n",
            "cell_temp              DataFrame        Marker   ISI\\n0    Pv<...>\\n\\n[66 rows x 2 columns]\n",
            "cell_temp_counts       Series       77.0    1\\n12.0    1\\n56.<...> Length: 66, dtype: int64\n",
            "cell_types             DataFrame        Marker   ISI\\n0    Pv<...>n\\n[140 rows x 2 columns]\n",
            "marker_counts          Series       Pvalb    76\\nSst      64\\<...>ame: Marker, dtype: int64\n",
            "pd                     module       <module 'pandas' from '/u<...>ages/pandas/__init__.py'>\n",
            "pvalb_isi              DataFrame        Marker   ISI\\n64   Pv<...>\\n\\n[76 rows x 2 columns]\n",
            "url                    str          https://raw.githubusercon<...>5/main/data/patch_seq.csv\n"
          ]
        }
      ]
    },
    {
      "cell_type": "markdown",
      "source": [
        "Pandas is a useful module that creates **dataframes** (think of these like Excel spreadsheets, but much faster!).\n",
        "\n",
        "We can think of Pandas as \\\"numpy with labels\\\"."
      ],
      "metadata": {
        "id": "FZZuspGhivGJ"
      }
    },
    {
      "cell_type": "markdown",
      "source": [
        "### Benefits of Pandas\n",
        "\n",
        "* Great for real-world, heterogeneous data\n",
        "* Similar to Excel spreadsheets (but way faster!)\n",
        "* Smartly deals with missing data\n",
        "\n",
        "We can work with our Allen Brain Institute patch-seq data as a Pandas dataframe!"
      ],
      "metadata": {
        "id": "1G28sQJ6i8jU"
      }
    },
    {
      "cell_type": "markdown",
      "source": [
        "><b>Task:</b> Import the `patch_seq.csv` file from our GitHub repo in the Code cell below! Assign it to a Pandas dataframe called `cell_types`.\n",
        "\n",
        "\n",
        "\n"
      ],
      "metadata": {
        "id": "Jp8EwDf4jYue"
      }
    },
    {
      "cell_type": "code",
      "source": [
        "# Import the patch-seq dataset!\n",
        "url = 'https://raw.githubusercontent.com/hallockh/neur_265/main/data/patch_seq.csv'\n",
        "cell_types = pd.read_csv(url)\n"
      ],
      "metadata": {
        "id": "NkSIiqLJjTEt"
      },
      "execution_count": 45,
      "outputs": []
    },
    {
      "cell_type": "markdown",
      "source": [
        "## Selecting columns and rows\n",
        "\n",
        "Indexing in Pandas  works slightly different. Similar to a dictionary, we can index values by their names.\n",
        "\n",
        "* Use `df['index']` for columns"
      ],
      "metadata": {
        "id": "SiSZoWTrkFc8"
      }
    },
    {
      "cell_type": "code",
      "source": [
        "# Grab the column with the 'ISI' header\n",
        "\n",
        "cell_types['ISI']\n"
      ],
      "metadata": {
        "id": "-6Qp6bublp1g",
        "colab": {
          "base_uri": "https://localhost:8080/"
        },
        "outputId": "06bf105c-4399-494b-f89a-cbec775e52b6"
      },
      "execution_count": 46,
      "outputs": [
        {
          "output_type": "execute_result",
          "data": {
            "text/plain": [
              "0      77.337143\n",
              "1      44.145000\n",
              "2       7.840000\n",
              "3      73.090000\n",
              "4      63.513333\n",
              "         ...    \n",
              "135    10.762273\n",
              "136    18.110588\n",
              "137    10.169565\n",
              "138    12.216667\n",
              "139    22.526667\n",
              "Name: ISI, Length: 140, dtype: float64"
            ]
          },
          "metadata": {},
          "execution_count": 46
        }
      ]
    },
    {
      "cell_type": "markdown",
      "source": [
        "To get the first 5 rows of a dataframe, we can use a slice: `df[:5]`.\n",
        "\n",
        "This is a great way to get a sense for what kind of information is in the dataframe\n",
        "\n",
        "><b>Task:</b> Look at the first five rows of your `cell_types` dataframe below:"
      ],
      "metadata": {
        "id": "3VVeDdzzBdZQ"
      }
    },
    {
      "cell_type": "code",
      "source": [
        "# Grab first 5 rows of data\n",
        "cell_types[:5]\n"
      ],
      "metadata": {
        "id": "om-6v82yCMMk",
        "colab": {
          "base_uri": "https://localhost:8080/",
          "height": 206
        },
        "outputId": "51bdb580-01fe-4295-f670-5c38683a5a6f"
      },
      "execution_count": 47,
      "outputs": [
        {
          "output_type": "execute_result",
          "data": {
            "text/plain": [
              "  Marker        ISI\n",
              "0    Sst  77.337143\n",
              "1    Sst  44.145000\n",
              "2    Sst   7.840000\n",
              "3    Sst  73.090000\n",
              "4    Sst  63.513333"
            ],
            "text/html": [
              "\n",
              "  <div id=\"df-9ca54513-b191-4bc9-994e-56cfc5afc081\" class=\"colab-df-container\">\n",
              "    <div>\n",
              "<style scoped>\n",
              "    .dataframe tbody tr th:only-of-type {\n",
              "        vertical-align: middle;\n",
              "    }\n",
              "\n",
              "    .dataframe tbody tr th {\n",
              "        vertical-align: top;\n",
              "    }\n",
              "\n",
              "    .dataframe thead th {\n",
              "        text-align: right;\n",
              "    }\n",
              "</style>\n",
              "<table border=\"1\" class=\"dataframe\">\n",
              "  <thead>\n",
              "    <tr style=\"text-align: right;\">\n",
              "      <th></th>\n",
              "      <th>Marker</th>\n",
              "      <th>ISI</th>\n",
              "    </tr>\n",
              "  </thead>\n",
              "  <tbody>\n",
              "    <tr>\n",
              "      <th>0</th>\n",
              "      <td>Sst</td>\n",
              "      <td>77.337143</td>\n",
              "    </tr>\n",
              "    <tr>\n",
              "      <th>1</th>\n",
              "      <td>Sst</td>\n",
              "      <td>44.145000</td>\n",
              "    </tr>\n",
              "    <tr>\n",
              "      <th>2</th>\n",
              "      <td>Sst</td>\n",
              "      <td>7.840000</td>\n",
              "    </tr>\n",
              "    <tr>\n",
              "      <th>3</th>\n",
              "      <td>Sst</td>\n",
              "      <td>73.090000</td>\n",
              "    </tr>\n",
              "    <tr>\n",
              "      <th>4</th>\n",
              "      <td>Sst</td>\n",
              "      <td>63.513333</td>\n",
              "    </tr>\n",
              "  </tbody>\n",
              "</table>\n",
              "</div>\n",
              "    <div class=\"colab-df-buttons\">\n",
              "\n",
              "  <div class=\"colab-df-container\">\n",
              "    <button class=\"colab-df-convert\" onclick=\"convertToInteractive('df-9ca54513-b191-4bc9-994e-56cfc5afc081')\"\n",
              "            title=\"Convert this dataframe to an interactive table.\"\n",
              "            style=\"display:none;\">\n",
              "\n",
              "  <svg xmlns=\"http://www.w3.org/2000/svg\" height=\"24px\" viewBox=\"0 -960 960 960\">\n",
              "    <path d=\"M120-120v-720h720v720H120Zm60-500h600v-160H180v160Zm220 220h160v-160H400v160Zm0 220h160v-160H400v160ZM180-400h160v-160H180v160Zm440 0h160v-160H620v160ZM180-180h160v-160H180v160Zm440 0h160v-160H620v160Z\"/>\n",
              "  </svg>\n",
              "    </button>\n",
              "\n",
              "  <style>\n",
              "    .colab-df-container {\n",
              "      display:flex;\n",
              "      gap: 12px;\n",
              "    }\n",
              "\n",
              "    .colab-df-convert {\n",
              "      background-color: #E8F0FE;\n",
              "      border: none;\n",
              "      border-radius: 50%;\n",
              "      cursor: pointer;\n",
              "      display: none;\n",
              "      fill: #1967D2;\n",
              "      height: 32px;\n",
              "      padding: 0 0 0 0;\n",
              "      width: 32px;\n",
              "    }\n",
              "\n",
              "    .colab-df-convert:hover {\n",
              "      background-color: #E2EBFA;\n",
              "      box-shadow: 0px 1px 2px rgba(60, 64, 67, 0.3), 0px 1px 3px 1px rgba(60, 64, 67, 0.15);\n",
              "      fill: #174EA6;\n",
              "    }\n",
              "\n",
              "    .colab-df-buttons div {\n",
              "      margin-bottom: 4px;\n",
              "    }\n",
              "\n",
              "    [theme=dark] .colab-df-convert {\n",
              "      background-color: #3B4455;\n",
              "      fill: #D2E3FC;\n",
              "    }\n",
              "\n",
              "    [theme=dark] .colab-df-convert:hover {\n",
              "      background-color: #434B5C;\n",
              "      box-shadow: 0px 1px 3px 1px rgba(0, 0, 0, 0.15);\n",
              "      filter: drop-shadow(0px 1px 2px rgba(0, 0, 0, 0.3));\n",
              "      fill: #FFFFFF;\n",
              "    }\n",
              "  </style>\n",
              "\n",
              "    <script>\n",
              "      const buttonEl =\n",
              "        document.querySelector('#df-9ca54513-b191-4bc9-994e-56cfc5afc081 button.colab-df-convert');\n",
              "      buttonEl.style.display =\n",
              "        google.colab.kernel.accessAllowed ? 'block' : 'none';\n",
              "\n",
              "      async function convertToInteractive(key) {\n",
              "        const element = document.querySelector('#df-9ca54513-b191-4bc9-994e-56cfc5afc081');\n",
              "        const dataTable =\n",
              "          await google.colab.kernel.invokeFunction('convertToInteractive',\n",
              "                                                    [key], {});\n",
              "        if (!dataTable) return;\n",
              "\n",
              "        const docLinkHtml = 'Like what you see? Visit the ' +\n",
              "          '<a target=\"_blank\" href=https://colab.research.google.com/notebooks/data_table.ipynb>data table notebook</a>'\n",
              "          + ' to learn more about interactive tables.';\n",
              "        element.innerHTML = '';\n",
              "        dataTable['output_type'] = 'display_data';\n",
              "        await google.colab.output.renderOutput(dataTable, element);\n",
              "        const docLink = document.createElement('div');\n",
              "        docLink.innerHTML = docLinkHtml;\n",
              "        element.appendChild(docLink);\n",
              "      }\n",
              "    </script>\n",
              "  </div>\n",
              "\n",
              "\n",
              "<div id=\"df-a92d7ef9-5662-49c5-84c5-6861250ad469\">\n",
              "  <button class=\"colab-df-quickchart\" onclick=\"quickchart('df-a92d7ef9-5662-49c5-84c5-6861250ad469')\"\n",
              "            title=\"Suggest charts\"\n",
              "            style=\"display:none;\">\n",
              "\n",
              "<svg xmlns=\"http://www.w3.org/2000/svg\" height=\"24px\"viewBox=\"0 0 24 24\"\n",
              "     width=\"24px\">\n",
              "    <g>\n",
              "        <path d=\"M19 3H5c-1.1 0-2 .9-2 2v14c0 1.1.9 2 2 2h14c1.1 0 2-.9 2-2V5c0-1.1-.9-2-2-2zM9 17H7v-7h2v7zm4 0h-2V7h2v10zm4 0h-2v-4h2v4z\"/>\n",
              "    </g>\n",
              "</svg>\n",
              "  </button>\n",
              "\n",
              "<style>\n",
              "  .colab-df-quickchart {\n",
              "      --bg-color: #E8F0FE;\n",
              "      --fill-color: #1967D2;\n",
              "      --hover-bg-color: #E2EBFA;\n",
              "      --hover-fill-color: #174EA6;\n",
              "      --disabled-fill-color: #AAA;\n",
              "      --disabled-bg-color: #DDD;\n",
              "  }\n",
              "\n",
              "  [theme=dark] .colab-df-quickchart {\n",
              "      --bg-color: #3B4455;\n",
              "      --fill-color: #D2E3FC;\n",
              "      --hover-bg-color: #434B5C;\n",
              "      --hover-fill-color: #FFFFFF;\n",
              "      --disabled-bg-color: #3B4455;\n",
              "      --disabled-fill-color: #666;\n",
              "  }\n",
              "\n",
              "  .colab-df-quickchart {\n",
              "    background-color: var(--bg-color);\n",
              "    border: none;\n",
              "    border-radius: 50%;\n",
              "    cursor: pointer;\n",
              "    display: none;\n",
              "    fill: var(--fill-color);\n",
              "    height: 32px;\n",
              "    padding: 0;\n",
              "    width: 32px;\n",
              "  }\n",
              "\n",
              "  .colab-df-quickchart:hover {\n",
              "    background-color: var(--hover-bg-color);\n",
              "    box-shadow: 0 1px 2px rgba(60, 64, 67, 0.3), 0 1px 3px 1px rgba(60, 64, 67, 0.15);\n",
              "    fill: var(--button-hover-fill-color);\n",
              "  }\n",
              "\n",
              "  .colab-df-quickchart-complete:disabled,\n",
              "  .colab-df-quickchart-complete:disabled:hover {\n",
              "    background-color: var(--disabled-bg-color);\n",
              "    fill: var(--disabled-fill-color);\n",
              "    box-shadow: none;\n",
              "  }\n",
              "\n",
              "  .colab-df-spinner {\n",
              "    border: 2px solid var(--fill-color);\n",
              "    border-color: transparent;\n",
              "    border-bottom-color: var(--fill-color);\n",
              "    animation:\n",
              "      spin 1s steps(1) infinite;\n",
              "  }\n",
              "\n",
              "  @keyframes spin {\n",
              "    0% {\n",
              "      border-color: transparent;\n",
              "      border-bottom-color: var(--fill-color);\n",
              "      border-left-color: var(--fill-color);\n",
              "    }\n",
              "    20% {\n",
              "      border-color: transparent;\n",
              "      border-left-color: var(--fill-color);\n",
              "      border-top-color: var(--fill-color);\n",
              "    }\n",
              "    30% {\n",
              "      border-color: transparent;\n",
              "      border-left-color: var(--fill-color);\n",
              "      border-top-color: var(--fill-color);\n",
              "      border-right-color: var(--fill-color);\n",
              "    }\n",
              "    40% {\n",
              "      border-color: transparent;\n",
              "      border-right-color: var(--fill-color);\n",
              "      border-top-color: var(--fill-color);\n",
              "    }\n",
              "    60% {\n",
              "      border-color: transparent;\n",
              "      border-right-color: var(--fill-color);\n",
              "    }\n",
              "    80% {\n",
              "      border-color: transparent;\n",
              "      border-right-color: var(--fill-color);\n",
              "      border-bottom-color: var(--fill-color);\n",
              "    }\n",
              "    90% {\n",
              "      border-color: transparent;\n",
              "      border-bottom-color: var(--fill-color);\n",
              "    }\n",
              "  }\n",
              "</style>\n",
              "\n",
              "  <script>\n",
              "    async function quickchart(key) {\n",
              "      const quickchartButtonEl =\n",
              "        document.querySelector('#' + key + ' button');\n",
              "      quickchartButtonEl.disabled = true;  // To prevent multiple clicks.\n",
              "      quickchartButtonEl.classList.add('colab-df-spinner');\n",
              "      try {\n",
              "        const charts = await google.colab.kernel.invokeFunction(\n",
              "            'suggestCharts', [key], {});\n",
              "      } catch (error) {\n",
              "        console.error('Error during call to suggestCharts:', error);\n",
              "      }\n",
              "      quickchartButtonEl.classList.remove('colab-df-spinner');\n",
              "      quickchartButtonEl.classList.add('colab-df-quickchart-complete');\n",
              "    }\n",
              "    (() => {\n",
              "      let quickchartButtonEl =\n",
              "        document.querySelector('#df-a92d7ef9-5662-49c5-84c5-6861250ad469 button');\n",
              "      quickchartButtonEl.style.display =\n",
              "        google.colab.kernel.accessAllowed ? 'block' : 'none';\n",
              "    })();\n",
              "  </script>\n",
              "</div>\n",
              "    </div>\n",
              "  </div>\n"
            ]
          },
          "metadata": {},
          "execution_count": 47
        }
      ]
    },
    {
      "cell_type": "markdown",
      "source": [
        "We can combine our code to get the first five rows of a specific column like so:"
      ],
      "metadata": {
        "id": "qpt2wY8sCNY4"
      }
    },
    {
      "cell_type": "code",
      "source": [
        "#Grab first 5 rows under ISI column\n",
        "cell_types[:5]['ISI']"
      ],
      "metadata": {
        "id": "oaz_k3HyCXwb",
        "colab": {
          "base_uri": "https://localhost:8080/"
        },
        "outputId": "93e3555e-03ae-442e-e23b-a4344754f954"
      },
      "execution_count": 48,
      "outputs": [
        {
          "output_type": "execute_result",
          "data": {
            "text/plain": [
              "0    77.337143\n",
              "1    44.145000\n",
              "2     7.840000\n",
              "3    73.090000\n",
              "4    63.513333\n",
              "Name: ISI, dtype: float64"
            ]
          },
          "metadata": {},
          "execution_count": 48
        }
      ]
    },
    {
      "cell_type": "markdown",
      "source": [
        "><b>Task:</b> Try flipping the order of your column and row indices. Does Pandas still execute the command?"
      ],
      "metadata": {
        "id": "WyH5PJDOCjGd"
      }
    },
    {
      "cell_type": "markdown",
      "source": [
        "What's the most common ISI value? This is a really easy question to answer! There's a `.value_counts()` method that we can use (we'll have to round our values before we do this):"
      ],
      "metadata": {
        "id": "QHeEZxg7C82H"
      }
    },
    {
      "cell_type": "code",
      "source": [
        "# Get ISI counts\n",
        "\n",
        "cell_types['ISI'] = round(cell_types['ISI'])\n",
        "ISI_counts = cell_types['ISI'].value_counts()\n",
        "ISI_counts"
      ],
      "metadata": {
        "id": "z10b9VKmDWly",
        "colab": {
          "base_uri": "https://localhost:8080/"
        },
        "outputId": "18711228-ec68-4a6e-92ff-85950b72e87c"
      },
      "execution_count": 49,
      "outputs": [
        {
          "output_type": "execute_result",
          "data": {
            "text/plain": [
              "13.0    8\n",
              "8.0     5\n",
              "25.0    5\n",
              "44.0    5\n",
              "19.0    4\n",
              "       ..\n",
              "79.0    1\n",
              "60.0    1\n",
              "42.0    1\n",
              "41.0    1\n",
              "39.0    1\n",
              "Name: ISI, Length: 66, dtype: int64"
            ]
          },
          "metadata": {},
          "execution_count": 49
        }
      ]
    },
    {
      "cell_type": "markdown",
      "source": [
        "We can visualize this with a bar graph by using the `.plot` method:"
      ],
      "metadata": {
        "id": "ZybT4QDdEL0S"
      }
    },
    {
      "cell_type": "code",
      "source": [
        "# Bar graph of ISI counts\n",
        "\n",
        "ISI_counts[:10].plot(kind = 'bar')"
      ],
      "metadata": {
        "id": "HTAVzJujEW_6",
        "colab": {
          "base_uri": "https://localhost:8080/",
          "height": 465
        },
        "outputId": "335bc618-0287-480d-b74b-aedc616c02ca"
      },
      "execution_count": 50,
      "outputs": [
        {
          "output_type": "execute_result",
          "data": {
            "text/plain": [
              "<Axes: >"
            ]
          },
          "metadata": {},
          "execution_count": 50
        },
        {
          "output_type": "display_data",
          "data": {
            "text/plain": [
              "<Figure size 640x480 with 1 Axes>"
            ],
            "image/png": "[encoded data removed]"
          },
          "metadata": {}
        }
      ]
    },
    {
      "cell_type": "markdown",
      "source": [
        "><b>Task:</b> Go to the Pandas website (https://pandas.pydata.org/docs/reference/api/pandas.DataFrame.plot.html) and look at other options for the `kind` parameter in the `.plot` method. Try plotting your ISI counts using different types of graphs."
      ],
      "metadata": {
        "id": "0l6dVr8ZE-AQ"
      }
    },
    {
      "cell_type": "code",
      "source": [
        "# Count freqeuncy of each marker type\n",
        "marker_counts = cell_types['Marker'].value_counts()\n",
        "\n",
        "#Plot the frequency\n",
        "marker_counts.plot(kind = 'pie')"
      ],
      "metadata": {
        "id": "6eK_8yxQFnYh",
        "colab": {
          "base_uri": "https://localhost:8080/",
          "height": 424
        },
        "outputId": "6e0a759b-5b78-4ce0-bda4-28e267fbe8b1"
      },
      "execution_count": 51,
      "outputs": [
        {
          "output_type": "execute_result",
          "data": {
            "text/plain": [
              "<Axes: ylabel='Marker'>"
            ]
          },
          "metadata": {},
          "execution_count": 51
        },
        {
          "output_type": "display_data",
          "data": {
            "text/plain": [
              "<Figure size 640x480 with 1 Axes>"
            ],
            "image/png": "[encoded data removed]"
          },
          "metadata": {}
        }
      ]
    },
    {
      "cell_type": "markdown",
      "source": [
        "><b>Task:</b> Make a pie chart of the values in your `'Marker'` column. Do you have an equal sampling of parvalbumin and somatostatin-expressing interneurons?"
      ],
      "metadata": {
        "id": "lXZlIRDoKdTc"
      }
    },
    {
      "cell_type": "markdown",
      "source": [
        "What if we only want to get ISI value counts from parvalbumin-expressing neurons? To do this, we'd need some way of indexing rows that contain the `'Pvalb'` string. The Pandas syntax for this is:"
      ],
      "metadata": {
        "id": "TRWiXRJMGDnC"
      }
    },
    {
      "cell_type": "code",
      "source": [
        "# Get ISI values from only parvalbumin interneurons\n",
        "\n",
        "pvalb_isi = cell_types[cell_types['Marker'] == \"Pvalb\"]\n",
        "pvalb_isi[:3]"
      ],
      "metadata": {
        "id": "6oLTyceKGnoh",
        "colab": {
          "base_uri": "https://localhost:8080/",
          "height": 143
        },
        "outputId": "ea73a805-2dcc-4163-f7a9-f793ec27906c"
      },
      "execution_count": 52,
      "outputs": [
        {
          "output_type": "execute_result",
          "data": {
            "text/plain": [
              "   Marker   ISI\n",
              "64  Pvalb  22.0\n",
              "65  Pvalb   9.0\n",
              "66  Pvalb  19.0"
            ],
            "text/html": [
              "\n",
              "  <div id=\"df-34e2a322-6a58-4b6e-8ef1-b69c327d0dc2\" class=\"colab-df-container\">\n",
              "    <div>\n",
              "<style scoped>\n",
              "    .dataframe tbody tr th:only-of-type {\n",
              "        vertical-align: middle;\n",
              "    }\n",
              "\n",
              "    .dataframe tbody tr th {\n",
              "        vertical-align: top;\n",
              "    }\n",
              "\n",
              "    .dataframe thead th {\n",
              "        text-align: right;\n",
              "    }\n",
              "</style>\n",
              "<table border=\"1\" class=\"dataframe\">\n",
              "  <thead>\n",
              "    <tr style=\"text-align: right;\">\n",
              "      <th></th>\n",
              "      <th>Marker</th>\n",
              "      <th>ISI</th>\n",
              "    </tr>\n",
              "  </thead>\n",
              "  <tbody>\n",
              "    <tr>\n",
              "      <th>64</th>\n",
              "      <td>Pvalb</td>\n",
              "      <td>22.0</td>\n",
              "    </tr>\n",
              "    <tr>\n",
              "      <th>65</th>\n",
              "      <td>Pvalb</td>\n",
              "      <td>9.0</td>\n",
              "    </tr>\n",
              "    <tr>\n",
              "      <th>66</th>\n",
              "      <td>Pvalb</td>\n",
              "      <td>19.0</td>\n",
              "    </tr>\n",
              "  </tbody>\n",
              "</table>\n",
              "</div>\n",
              "    <div class=\"colab-df-buttons\">\n",
              "\n",
              "  <div class=\"colab-df-container\">\n",
              "    <button class=\"colab-df-convert\" onclick=\"convertToInteractive('df-34e2a322-6a58-4b6e-8ef1-b69c327d0dc2')\"\n",
              "            title=\"Convert this dataframe to an interactive table.\"\n",
              "            style=\"display:none;\">\n",
              "\n",
              "  <svg xmlns=\"http://www.w3.org/2000/svg\" height=\"24px\" viewBox=\"0 -960 960 960\">\n",
              "    <path d=\"M120-120v-720h720v720H120Zm60-500h600v-160H180v160Zm220 220h160v-160H400v160Zm0 220h160v-160H400v160ZM180-400h160v-160H180v160Zm440 0h160v-160H620v160ZM180-180h160v-160H180v160Zm440 0h160v-160H620v160Z\"/>\n",
              "  </svg>\n",
              "    </button>\n",
              "\n",
              "  <style>\n",
              "    .colab-df-container {\n",
              "      display:flex;\n",
              "      gap: 12px;\n",
              "    }\n",
              "\n",
              "    .colab-df-convert {\n",
              "      background-color: #E8F0FE;\n",
              "      border: none;\n",
              "      border-radius: 50%;\n",
              "      cursor: pointer;\n",
              "      display: none;\n",
              "      fill: #1967D2;\n",
              "      height: 32px;\n",
              "      padding: 0 0 0 0;\n",
              "      width: 32px;\n",
              "    }\n",
              "\n",
              "    .colab-df-convert:hover {\n",
              "      background-color: #E2EBFA;\n",
              "      box-shadow: 0px 1px 2px rgba(60, 64, 67, 0.3), 0px 1px 3px 1px rgba(60, 64, 67, 0.15);\n",
              "      fill: #174EA6;\n",
              "    }\n",
              "\n",
              "    .colab-df-buttons div {\n",
              "      margin-bottom: 4px;\n",
              "    }\n",
              "\n",
              "    [theme=dark] .colab-df-convert {\n",
              "      background-color: #3B4455;\n",
              "      fill: #D2E3FC;\n",
              "    }\n",
              "\n",
              "    [theme=dark] .colab-df-convert:hover {\n",
              "      background-color: #434B5C;\n",
              "      box-shadow: 0px 1px 3px 1px rgba(0, 0, 0, 0.15);\n",
              "      filter: drop-shadow(0px 1px 2px rgba(0, 0, 0, 0.3));\n",
              "      fill: #FFFFFF;\n",
              "    }\n",
              "  </style>\n",
              "\n",
              "    <script>\n",
              "      const buttonEl =\n",
              "        document.querySelector('#df-34e2a322-6a58-4b6e-8ef1-b69c327d0dc2 button.colab-df-convert');\n",
              "      buttonEl.style.display =\n",
              "        google.colab.kernel.accessAllowed ? 'block' : 'none';\n",
              "\n",
              "      async function convertToInteractive(key) {\n",
              "        const element = document.querySelector('#df-34e2a322-6a58-4b6e-8ef1-b69c327d0dc2');\n",
              "        const dataTable =\n",
              "          await google.colab.kernel.invokeFunction('convertToInteractive',\n",
              "                                                    [key], {});\n",
              "        if (!dataTable) return;\n",
              "\n",
              "        const docLinkHtml = 'Like what you see? Visit the ' +\n",
              "          '<a target=\"_blank\" href=https://colab.research.google.com/notebooks/data_table.ipynb>data table notebook</a>'\n",
              "          + ' to learn more about interactive tables.';\n",
              "        element.innerHTML = '';\n",
              "        dataTable['output_type'] = 'display_data';\n",
              "        await google.colab.output.renderOutput(dataTable, element);\n",
              "        const docLink = document.createElement('div');\n",
              "        docLink.innerHTML = docLinkHtml;\n",
              "        element.appendChild(docLink);\n",
              "      }\n",
              "    </script>\n",
              "  </div>\n",
              "\n",
              "\n",
              "<div id=\"df-88cbe195-a1c8-4d74-a5e4-8924210558a0\">\n",
              "  <button class=\"colab-df-quickchart\" onclick=\"quickchart('df-88cbe195-a1c8-4d74-a5e4-8924210558a0')\"\n",
              "            title=\"Suggest charts\"\n",
              "            style=\"display:none;\">\n",
              "\n",
              "<svg xmlns=\"http://www.w3.org/2000/svg\" height=\"24px\"viewBox=\"0 0 24 24\"\n",
              "     width=\"24px\">\n",
              "    <g>\n",
              "        <path d=\"M19 3H5c-1.1 0-2 .9-2 2v14c0 1.1.9 2 2 2h14c1.1 0 2-.9 2-2V5c0-1.1-.9-2-2-2zM9 17H7v-7h2v7zm4 0h-2V7h2v10zm4 0h-2v-4h2v4z\"/>\n",
              "    </g>\n",
              "</svg>\n",
              "  </button>\n",
              "\n",
              "<style>\n",
              "  .colab-df-quickchart {\n",
              "      --bg-color: #E8F0FE;\n",
              "      --fill-color: #1967D2;\n",
              "      --hover-bg-color: #E2EBFA;\n",
              "      --hover-fill-color: #174EA6;\n",
              "      --disabled-fill-color: #AAA;\n",
              "      --disabled-bg-color: #DDD;\n",
              "  }\n",
              "\n",
              "  [theme=dark] .colab-df-quickchart {\n",
              "      --bg-color: #3B4455;\n",
              "      --fill-color: #D2E3FC;\n",
              "      --hover-bg-color: #434B5C;\n",
              "      --hover-fill-color: #FFFFFF;\n",
              "      --disabled-bg-color: #3B4455;\n",
              "      --disabled-fill-color: #666;\n",
              "  }\n",
              "\n",
              "  .colab-df-quickchart {\n",
              "    background-color: var(--bg-color);\n",
              "    border: none;\n",
              "    border-radius: 50%;\n",
              "    cursor: pointer;\n",
              "    display: none;\n",
              "    fill: var(--fill-color);\n",
              "    height: 32px;\n",
              "    padding: 0;\n",
              "    width: 32px;\n",
              "  }\n",
              "\n",
              "  .colab-df-quickchart:hover {\n",
              "    background-color: var(--hover-bg-color);\n",
              "    box-shadow: 0 1px 2px rgba(60, 64, 67, 0.3), 0 1px 3px 1px rgba(60, 64, 67, 0.15);\n",
              "    fill: var(--button-hover-fill-color);\n",
              "  }\n",
              "\n",
              "  .colab-df-quickchart-complete:disabled,\n",
              "  .colab-df-quickchart-complete:disabled:hover {\n",
              "    background-color: var(--disabled-bg-color);\n",
              "    fill: var(--disabled-fill-color);\n",
              "    box-shadow: none;\n",
              "  }\n",
              "\n",
              "  .colab-df-spinner {\n",
              "    border: 2px solid var(--fill-color);\n",
              "    border-color: transparent;\n",
              "    border-bottom-color: var(--fill-color);\n",
              "    animation:\n",
              "      spin 1s steps(1) infinite;\n",
              "  }\n",
              "\n",
              "  @keyframes spin {\n",
              "    0% {\n",
              "      border-color: transparent;\n",
              "      border-bottom-color: var(--fill-color);\n",
              "      border-left-color: var(--fill-color);\n",
              "    }\n",
              "    20% {\n",
              "      border-color: transparent;\n",
              "      border-left-color: var(--fill-color);\n",
              "      border-top-color: var(--fill-color);\n",
              "    }\n",
              "    30% {\n",
              "      border-color: transparent;\n",
              "      border-left-color: var(--fill-color);\n",
              "      border-top-color: var(--fill-color);\n",
              "      border-right-color: var(--fill-color);\n",
              "    }\n",
              "    40% {\n",
              "      border-color: transparent;\n",
              "      border-right-color: var(--fill-color);\n",
              "      border-top-color: var(--fill-color);\n",
              "    }\n",
              "    60% {\n",
              "      border-color: transparent;\n",
              "      border-right-color: var(--fill-color);\n",
              "    }\n",
              "    80% {\n",
              "      border-color: transparent;\n",
              "      border-right-color: var(--fill-color);\n",
              "      border-bottom-color: var(--fill-color);\n",
              "    }\n",
              "    90% {\n",
              "      border-color: transparent;\n",
              "      border-bottom-color: var(--fill-color);\n",
              "    }\n",
              "  }\n",
              "</style>\n",
              "\n",
              "  <script>\n",
              "    async function quickchart(key) {\n",
              "      const quickchartButtonEl =\n",
              "        document.querySelector('#' + key + ' button');\n",
              "      quickchartButtonEl.disabled = true;  // To prevent multiple clicks.\n",
              "      quickchartButtonEl.classList.add('colab-df-spinner');\n",
              "      try {\n",
              "        const charts = await google.colab.kernel.invokeFunction(\n",
              "            'suggestCharts', [key], {});\n",
              "      } catch (error) {\n",
              "        console.error('Error during call to suggestCharts:', error);\n",
              "      }\n",
              "      quickchartButtonEl.classList.remove('colab-df-spinner');\n",
              "      quickchartButtonEl.classList.add('colab-df-quickchart-complete');\n",
              "    }\n",
              "    (() => {\n",
              "      let quickchartButtonEl =\n",
              "        document.querySelector('#df-88cbe195-a1c8-4d74-a5e4-8924210558a0 button');\n",
              "      quickchartButtonEl.style.display =\n",
              "        google.colab.kernel.accessAllowed ? 'block' : 'none';\n",
              "    })();\n",
              "  </script>\n",
              "</div>\n",
              "    </div>\n",
              "  </div>\n"
            ]
          },
          "metadata": {},
          "execution_count": 52
        }
      ]
    },
    {
      "cell_type": "markdown",
      "source": [
        "If you look at `pvalb_isi`, you'll see that this worked, and it only contains ISI values from one type of neuron. But how does this work? Let's deconstruct it into two pieces"
      ],
      "metadata": {
        "id": "SswGQpyCG8vx"
      }
    },
    {
      "cell_type": "code",
      "source": [
        "#Is Marker type 'Pvalb'?\n",
        "\n",
        "cell_types['Marker'] == \"Pvalb\""
      ],
      "metadata": {
        "id": "RxdkoXsrHJO_",
        "colab": {
          "base_uri": "https://localhost:8080/"
        },
        "outputId": "06b1916e-3317-4d45-b7b2-a8f49d5c1fed"
      },
      "execution_count": 53,
      "outputs": [
        {
          "output_type": "execute_result",
          "data": {
            "text/plain": [
              "0      False\n",
              "1      False\n",
              "2      False\n",
              "3      False\n",
              "4      False\n",
              "       ...  \n",
              "135     True\n",
              "136     True\n",
              "137     True\n",
              "138     True\n",
              "139     True\n",
              "Name: Marker, Length: 140, dtype: bool"
            ]
          },
          "metadata": {},
          "execution_count": 53
        }
      ]
    },
    {
      "cell_type": "markdown",
      "source": [
        "This is a big array of `Trues` and `Falses`, one for each row in our dataframe. When we index our dataframe with this array, we get just the rows where our boolean array evaluated to `True`. It's important to note that for row filtering by a boolean array the length of our dataframe's index must be the same length as the boolean array used for filtering."
      ],
      "metadata": {
        "id": "p2qa6w2aHV6A"
      }
    },
    {
      "cell_type": "markdown",
      "source": [
        ">Question: What do you notice about the equals signs in the above code? Why do you think are there two types of equals signs?"
      ],
      "metadata": {
        "id": "xiF8HOCxHjhR"
      }
    },
    {
      "cell_type": "markdown",
      "source": [
        "## A digression about Numpy arrays\n",
        "\n",
        "On the inside of a dataframe, the type of a column is `pd.Series`, and Pandas Series are internally numpy arrays. If you add `.values` to the end of any Series, you'll get its internal numpy array"
      ],
      "metadata": {
        "id": "da5hU0-BJT4f"
      }
    },
    {
      "cell_type": "code",
      "source": [
        "# Convert the ISI column in our Pandas dataframe into a Numpy array\n",
        "\n",
        "ISI_array = cell_types['ISI'].values\n",
        "type(ISI_array)"
      ],
      "metadata": {
        "id": "BXsMmWePJ5q1",
        "colab": {
          "base_uri": "https://localhost:8080/"
        },
        "outputId": "11d867f6-03ba-42d3-b849-2219f58c4ae9"
      },
      "execution_count": 54,
      "outputs": [
        {
          "output_type": "execute_result",
          "data": {
            "text/plain": [
              "numpy.ndarray"
            ]
          },
          "metadata": {},
          "execution_count": 54
        }
      ]
    },
    {
      "cell_type": "markdown",
      "source": [
        "## Pandas methods and attributes\n",
        "\n",
        "Just like with Numpy, Pandas also has some unique attributes and methods you can use to work with your data\n",
        "\n",
        "* The `.shape` method lets you check the shape of your DataFrame\n",
        "* The `.append` method lets you add data to your DataFrame\n",
        "* The `.drop_duplicates` method will remove duplicate data\n"
      ],
      "metadata": {
        "id": "kXbRbUhmF9NX"
      }
    },
    {
      "cell_type": "code",
      "source": [
        "# Check the shape of your cell_types DataFrame\n",
        "\n",
        "cell_types.shape"
      ],
      "metadata": {
        "id": "wk-LiR6EHCuT",
        "colab": {
          "base_uri": "https://localhost:8080/"
        },
        "outputId": "2eee3d91-7a38-4b9b-df04-9df31a6f3448"
      },
      "execution_count": 55,
      "outputs": [
        {
          "output_type": "execute_result",
          "data": {
            "text/plain": [
              "(140, 2)"
            ]
          },
          "metadata": {},
          "execution_count": 55
        }
      ]
    },
    {
      "cell_type": "markdown",
      "source": [
        ">Question: What happens when you try to use parentheses with `.shape`? Why do you think this happens?"
      ],
      "metadata": {
        "id": "0udu9VDLHOCi"
      }
    },
    {
      "cell_type": "markdown",
      "source": [
        "><b>Task:</b> Create a new variable called `cell_temp`, and make it equal to `cell_types` with duplicates removed. What is the shape of `cell_temp`? What is its size?"
      ],
      "metadata": {
        "id": "XirNkEvRHeHu"
      }
    },
    {
      "cell_type": "code",
      "source": [
        "# Drop the duplicates (method)\n",
        "\n",
        "cell_temp = cell_types.drop_duplicates()\n",
        "\n",
        "#Return the shape and size of variable (attribute)\n",
        "\n",
        "print(cell_temp.shape)\n",
        "print(cell_temp.size)\n"
      ],
      "metadata": {
        "id": "SC0RAJTuHo-W",
        "colab": {
          "base_uri": "https://localhost:8080/"
        },
        "outputId": "74191651-0e62-4bd6-afb2-68a47af89f2e"
      },
      "execution_count": 56,
      "outputs": [
        {
          "output_type": "stream",
          "name": "stdout",
          "text": [
            "(77, 2)\n",
            "154\n"
          ]
        }
      ]
    },
    {
      "cell_type": "markdown",
      "source": [
        "><b>Task:</b> Create a bar plot of ISI values for your `cell_temp` DataFrame. How do you think the `.drop_duplicates` method works?"
      ],
      "metadata": {
        "id": "metwqPhbIuZP"
      }
    },
    {
      "cell_type": "code",
      "source": [
        "# Make a new bar plot\n",
        "\n",
        "cell_temp['ISI'] = round(cell_temp['ISI'])\n",
        "\n",
        "\n",
        "cell_temp_counts = cell_temp['ISI'].value_counts()\n",
        "\n",
        "cell_temp_counts[:10].plot (kind = 'bar')\n",
        "\n"
      ],
      "metadata": {
        "id": "QvMvTnXiI6D2",
        "colab": {
          "base_uri": "https://localhost:8080/",
          "height": 600
        },
        "outputId": "822ff454-940c-4baf-f154-b2eb508e9673"
      },
      "execution_count": 57,
      "outputs": [
        {
          "output_type": "stream",
          "name": "stderr",
          "text": [
            "<ipython-input-57-7359e958d88e>:3: SettingWithCopyWarning: \n",
            "A value is trying to be set on a copy of a slice from a DataFrame.\n",
            "Try using .loc[row_indexer,col_indexer] = value instead\n",
            "\n",
            "See the caveats in the documentation: https://pandas.pydata.org/pandas-docs/stable/user_guide/indexing.html#returning-a-view-versus-a-copy\n",
            "  cell_temp['ISI'] = round(cell_temp['ISI'])\n"
          ]
        },
        {
          "output_type": "execute_result",
          "data": {
            "text/plain": [
              "<Axes: >"
            ]
          },
          "metadata": {},
          "execution_count": 57
        },
        {
          "output_type": "display_data",
          "data": {
            "text/plain": [
              "<Figure size 640x480 with 1 Axes>"
            ],
            "image/png": "[encoded data removed]"
          },
          "metadata": {}
        }
      ]
    },
    {
      "cell_type": "markdown",
      "source": [
        "We can print the name of our columns using the `.column` method, and rename our column headers with the `.rename` method:"
      ],
      "metadata": {
        "id": "Uj7LhuYmKL8t"
      }
    },
    {
      "cell_type": "code",
      "source": [
        "print(cell_types.columns)\n",
        "cell_types_renamed = cell_types.rename(columns={'ISI': 'Inter-spike interval'})\n",
        "print(cell_types_renamed.columns)\n"
      ],
      "metadata": {
        "id": "PXay2684KSoq",
        "colab": {
          "base_uri": "https://localhost:8080/"
        },
        "outputId": "aa178a88-975c-4db7-adbe-f598784d0d80"
      },
      "execution_count": 58,
      "outputs": [
        {
          "output_type": "stream",
          "name": "stdout",
          "text": [
            "Index(['Marker', 'ISI'], dtype='object')\n",
            "Index(['Marker', 'Inter-spike interval'], dtype='object')\n"
          ]
        }
      ]
    },
    {
      "cell_type": "markdown",
      "source": [
        "What if we want to make all names of columns lowercase? Instead of using `.rename`, we can also set a list of names to the columns like so:"
      ],
      "metadata": {
        "id": "f1YlM8qNNHts"
      }
    },
    {
      "cell_type": "code",
      "source": [
        "cell_types_renamed.columns = ['marker','inter-spike interval']\n",
        "print(cell_types_renamed.columns)"
      ],
      "metadata": {
        "id": "O-u_PBgdNQbT",
        "colab": {
          "base_uri": "https://localhost:8080/"
        },
        "outputId": "c98ca75a-ee0c-4a5a-d249-775df1e29ca4"
      },
      "execution_count": 59,
      "outputs": [
        {
          "output_type": "stream",
          "name": "stdout",
          "text": [
            "Index(['marker', 'inter-spike interval'], dtype='object')\n"
          ]
        }
      ]
    },
    {
      "cell_type": "markdown",
      "source": [
        "Finally, one really useful Pandas method is `.describe`. Try it out on your `cell_types` DataFrame and see what it returns."
      ],
      "metadata": {
        "id": "XwNnmbc4OYGw"
      }
    },
    {
      "cell_type": "code",
      "source": [
        "# Describe Your cell_types\n",
        "#cell_types.describe()\n",
        "\n",
        "#Describe marker column\n",
        "\n",
        "cell_types['Marker'].describe()\n"
      ],
      "metadata": {
        "id": "O-XVzc9UN6ld",
        "colab": {
          "base_uri": "https://localhost:8080/"
        },
        "outputId": "a8e0c9c7-81fd-423b-c05c-33350dc02bca"
      },
      "execution_count": 73,
      "outputs": [
        {
          "output_type": "execute_result",
          "data": {
            "text/plain": [
              "count       140\n",
              "unique        2\n",
              "top       Pvalb\n",
              "freq         76\n",
              "Name: Marker, dtype: object"
            ]
          },
          "metadata": {},
          "execution_count": 73
        }
      ]
    },
    {
      "cell_type": "markdown",
      "source": [
        "><b>Task:</b> Use the `.describe` method on *just* your `'marker'` column, using the syntax `df['column'].describe()`"
      ],
      "metadata": {
        "id": "vSLrrzXJOyot"
      }
    },
    {
      "cell_type": "markdown",
      "source": [
        "## Indexing DataFrames\n",
        "\n",
        "Up until now we've focused on some basic summaries of our data. Below are the other methods of slicing, selecting, and extracting you'll need to use constantly.\n",
        "\n",
        "It's important to note that, although many methods are the same, DataFrames and Series have different attributes, so you'll need be sure to know which type you are working with or else you will receive attribute errors.\n",
        "\n",
        "Let's look at working with columns first.\n",
        "\n",
        "You already saw how to extract a column using square brackets like this:"
      ],
      "metadata": {
        "id": "UZJnu9gYPFCm"
      }
    },
    {
      "cell_type": "code",
      "source": [
        "ISI_col = cell_types['ISI']\n",
        "\n",
        "type(ISI_col)"
      ],
      "metadata": {
        "id": "Wh9jHUY2Pj7H",
        "colab": {
          "base_uri": "https://localhost:8080/"
        },
        "outputId": "339d6853-b7a5-4021-bbbb-0511f362c8a9"
      },
      "execution_count": 61,
      "outputs": [
        {
          "output_type": "execute_result",
          "data": {
            "text/plain": [
              "pandas.core.series.Series"
            ]
          },
          "metadata": {},
          "execution_count": 61
        }
      ]
    },
    {
      "cell_type": "markdown",
      "source": [
        "This will return a Series. To extract a column as a DataFrame, you need to pass a list of column names. In our case that's just a single column:"
      ],
      "metadata": {
        "id": "jO1joN2xP4PJ"
      }
    },
    {
      "cell_type": "code",
      "source": [
        "ISI_col = cell_types[['ISI']]\n",
        "\n",
        "type(ISI_col)"
      ],
      "metadata": {
        "id": "ClTcGgrOP672",
        "colab": {
          "base_uri": "https://localhost:8080/"
        },
        "outputId": "4c1267d1-d766-47ef-d901-15f12e4ca308"
      },
      "execution_count": 62,
      "outputs": [
        {
          "output_type": "execute_result",
          "data": {
            "text/plain": [
              "pandas.core.frame.DataFrame"
            ]
          },
          "metadata": {},
          "execution_count": 62
        }
      ]
    },
    {
      "cell_type": "markdown",
      "source": [
        "For rows, we have two options:\n",
        "\n",
        "* `.loc` - **loc**ates by name\n",
        "* `.iloc`- **loc**ates by numerical **i**ndex\n",
        "\n",
        "Our rows aren't indexed by name (rows still correspond to numbered indices in our DataFrame), so we can use numbers for each method:"
      ],
      "metadata": {
        "id": "-hqDtEIiQOsp"
      }
    },
    {
      "cell_type": "code",
      "source": [
        "print(cell_types.loc[0])\n",
        "print(cell_types.iloc[0])"
      ],
      "metadata": {
        "id": "ANUWuTw5Qj2A",
        "colab": {
          "base_uri": "https://localhost:8080/"
        },
        "outputId": "2dead5eb-24c2-42f3-a18a-46488cd75d1b"
      },
      "execution_count": 78,
      "outputs": [
        {
          "output_type": "stream",
          "name": "stdout",
          "text": [
            "Marker     Sst\n",
            "ISI       77.0\n",
            "Name: 0, dtype: object\n",
            "Marker     Sst\n",
            "ISI       77.0\n",
            "Name: 0, dtype: object\n"
          ]
        }
      ]
    },
    {
      "cell_type": "markdown",
      "source": [
        "`.loc` and `.iloc` can be thought of as similar to Python list slicing. To show this even further, let's select multiple rows.\n",
        "\n",
        "How would you do it with a list? In Python, just slice with brackets like `example_list[1:4]`. It's works the same way in Pandas:"
      ],
      "metadata": {
        "id": "mUqdzE2QRIfm"
      }
    },
    {
      "cell_type": "code",
      "source": [
        "print(cell_types.loc[1:4])\n",
        "print(cell_types.iloc[1:4])"
      ],
      "metadata": {
        "id": "8VovN9B1RPa4",
        "colab": {
          "base_uri": "https://localhost:8080/"
        },
        "outputId": "14d427ba-4609-4c96-e9b0-3dc7fc99d67f"
      },
      "execution_count": 76,
      "outputs": [
        {
          "output_type": "stream",
          "name": "stdout",
          "text": [
            "  Marker   ISI\n",
            "1    Sst  44.0\n",
            "2    Sst   8.0\n",
            "3    Sst  73.0\n",
            "4    Sst  64.0\n",
            "  Marker   ISI\n",
            "1    Sst  44.0\n",
            "2    Sst   8.0\n",
            "3    Sst  73.0\n"
          ]
        }
      ]
    },
    {
      "cell_type": "markdown",
      "source": [
        ">Question: Do you notice any differences in output between `.loc` and `.iloc` when slicing rows?"
      ],
      "metadata": {
        "id": "gT_ikC-YRgCo"
      }
    },
    {
      "cell_type": "markdown",
      "source": [
        "To access a value in a specific row and a specific column, you can use `.iloc[row,column]`:"
      ],
      "metadata": {
        "id": "fIDJkGIuVORT"
      }
    },
    {
      "cell_type": "code",
      "source": [
        "cell_types.iloc[0,1]"
      ],
      "metadata": {
        "id": "42gWABTiVH3s",
        "colab": {
          "base_uri": "https://localhost:8080/"
        },
        "outputId": "6c476666-63dd-426a-c4ca-5d3550727823"
      },
      "execution_count": 65,
      "outputs": [
        {
          "output_type": "execute_result",
          "data": {
            "text/plain": [
              "77.0"
            ]
          },
          "metadata": {},
          "execution_count": 65
        }
      ]
    },
    {
      "cell_type": "markdown",
      "source": [
        "You can also use Booleans to filter your DataFrame. We already did one example of this in this notebook - we filtered only rows that contain the string `'Pvalb'` out of our DataFrame with the syntax `df[df['column name'] == \"value\"]`. We can use other comparison operators to accomplish the same goal. A list of Boolean comparison operators in Python is below:\n",
        "\n",
        "| Operation | Meaning |\n",
        "|:---------:|:-------:|\n",
        "|   <       |strictly less than|\n",
        "| <=      | less than or equal|\n",
        "|   >     |strictly greater than|\n",
        "|  >=   |greater than or equal|\n",
        "|  ==  |equal|\n",
        "| !=  |not equal|\n",
        "\n"
      ],
      "metadata": {
        "id": "29HGYtI7RmIv"
      }
    },
    {
      "cell_type": "markdown",
      "source": [
        "><b>Task:</b> Create a new variable that contains ISI values greater than or equal to 5. Create a new variable that contains ISI values less than or equal to 7. Create a new variable that contains ISI values that are not equal to 10."
      ],
      "metadata": {
        "id": "e_mJv-V2UAPB"
      }
    },
    {
      "cell_type": "markdown",
      "source": [
        "We can make some richer conditionals by using logical operators `|` for \"or\" and `&` for \"and\"."
      ],
      "metadata": {
        "id": "Jqf5NRYoUrMP"
      }
    },
    {
      "cell_type": "code",
      "source": [
        "types_temp = cell_types[(cell_types['Marker'] == \"Pvalb\") & (cell_types['ISI'] > 4)]\n",
        "#print(types_temp)\n",
        "\n",
        "less_than_seven = cell_types[(cell_types['Marker'] == \"Pvalb\") & (cell_types['ISI']<=7)]\n",
        "#print(less_than_seven)\n",
        "\n",
        "not_ten = cell_types[(cell_types['Marker'] == \"Pvalb\") & (cell_types['ISI']!=10)]\n",
        "print(not_ten)"
      ],
      "metadata": {
        "id": "a3qTYjfTVnP9",
        "colab": {
          "base_uri": "https://localhost:8080/"
        },
        "outputId": "acf05f07-7881-403d-c7bf-2a4e5301b889"
      },
      "execution_count": 80,
      "outputs": [
        {
          "output_type": "stream",
          "name": "stdout",
          "text": [
            "    Marker   ISI\n",
            "64   Pvalb  22.0\n",
            "65   Pvalb   9.0\n",
            "66   Pvalb  19.0\n",
            "67   Pvalb  13.0\n",
            "68   Pvalb   8.0\n",
            "..     ...   ...\n",
            "134  Pvalb  20.0\n",
            "135  Pvalb  11.0\n",
            "136  Pvalb  18.0\n",
            "138  Pvalb  12.0\n",
            "139  Pvalb  23.0\n",
            "\n",
            "[74 rows x 2 columns]\n"
          ]
        }
      ]
    },
    {
      "cell_type": "markdown",
      "source": [
        "><b>Task:</b> Create a new DataFrame with the following attributes:\n",
        "\n",
        "* Must only contain ISI values from somatostatin interneurons\n",
        "* ISI values must be less than 2, **or** greater than 8\n",
        "* Verify that you did this correctly by creating a second DataFrame that contains ISI values from your first DataFrame that are greater than 2, **or** less than 8"
      ],
      "metadata": {
        "id": "L62dFaapWRGY"
      }
    }
  ]
}