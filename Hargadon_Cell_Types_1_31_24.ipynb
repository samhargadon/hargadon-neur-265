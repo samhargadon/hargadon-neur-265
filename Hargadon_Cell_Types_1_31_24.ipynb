{
  "nbformat": 4,
  "nbformat_minor": 0,
  "metadata": {
    "colab": {
      "provenance": [],
      "include_colab_link": true
    },
    "kernelspec": {
      "name": "python3",
      "display_name": "Python 3"
    },
    "language_info": {
      "name": "python"
    }
  },
  "cells": [
    {
      "cell_type": "markdown",
      "metadata": {
        "id": "view-in-github",
        "colab_type": "text"
      },
      "source": [
        "<a href=\"https://colab.research.google.com/github/samhargadon/neural-data-analysis/blob/main/Hargadon_Cell_Types_1_31_24.ipynb\" target=\"_parent\"><img src=\"https://colab.research.google.com/assets/colab-badge.svg\" alt=\"Open In Colab\"/></a>"
      ]
    },
    {
      "cell_type": "markdown",
      "source": [
        "# Looking at cell types!\n",
        "\n",
        "Here, we have some data from the Allen Brain Institute (alleninstitute.org)\n",
        "\n",
        "The Allen Brain Institute curates large datasets containing information about many different brain attributes\n",
        "\n",
        "These datasets can be accessed at <i><u>portal.brain-map.org</i></u>\n",
        "\n",
        "<b>Task:</b> Go the the ABI data portal and click on the tab that says \"explore mouse patch-seq data\". Click on the *down* arrow next to \"Mouse PatchSeq VIS | Specimens\", and click on \"Summary\". Create a new *Markdown Cell* below and type, in your own words, what you think the advantage of Patch-seq is after reading the project description.\n"
      ],
      "metadata": {
        "id": "oOuk-2a_VgGC"
      }
    },
    {
      "cell_type": "markdown",
      "source": [
        "\n",
        "\n",
        "*   Patch-seq approach\n",
        "* allows for characterization of individual neuron\n",
        "* apply sunction to electrode and attach to peace of membrane going through cell\n",
        "* can inject electricity and see how it responds\n",
        "\n"
      ],
      "metadata": {
        "id": "9u9uNwt94EOy"
      }
    },
    {
      "cell_type": "markdown",
      "source": [
        "## Edit this cell!"
      ],
      "metadata": {
        "id": "T4HjqmlQX9to"
      }
    },
    {
      "cell_type": "code",
      "source": [],
      "metadata": {
        "id": "NRKz1obf2Mdb"
      },
      "execution_count": null,
      "outputs": []
    },
    {
      "cell_type": "markdown",
      "source": [
        "Now, we're going to load some data from the patch-seq dataset. To do this, we first need to import a package called `pandas`. `Pandas` lets you create objects called `DataFrames` - these objects let you organize your data like you would in an Excel spreadsheet.\n",
        "\n",
        "\n"
      ],
      "metadata": {
        "id": "jp8PrtQKJ2ew"
      }
    },
    {
      "cell_type": "code",
      "source": [
        "# Run this code to install pandas\n",
        "try:\n",
        "    import pandas as pd\n",
        "    print('pandas already installed')\n",
        "except ImportError as e:\n",
        "    !pip install pandas"
      ],
      "metadata": {
        "id": "36S6cX4vLvRl",
        "colab": {
          "base_uri": "https://localhost:8080/"
        },
        "outputId": "5b4d33ed-08c5-40d1-9377-4233296bdf4a"
      },
      "execution_count": 1,
      "outputs": [
        {
          "output_type": "stream",
          "name": "stdout",
          "text": [
            "pandas already installed\n"
          ]
        }
      ]
    },
    {
      "cell_type": "markdown",
      "source": [
        "Now, we're going to import our patch-seq data from the `.csv` file located in our GitHub repository. A `.csv` file works much like an Excel spreadsheet, and is often used by data scientists to organize their data prior to working with it in programming languages like python."
      ],
      "metadata": {
        "id": "uk2zruIjL_KH"
      }
    },
    {
      "cell_type": "code",
      "source": [
        "# Before you run this cell, click on the .csv file in your respository, and then click on \"View Raw\"\n",
        "# Copy the link to the raw dataset and store it as a string variable called url\n",
        "\n",
        "url = 'https://raw.githubusercontent.com/hallockh/neur_265/main/data/patch_seq.csv'\n",
        "cell_types = pd.read_csv(url)"
      ],
      "metadata": {
        "id": "KDDoaCcuMa12"
      },
      "execution_count": 2,
      "outputs": []
    },
    {
      "cell_type": "markdown",
      "source": [
        "<b>Task:</b> Look at your `cell_types` variable. Create a new *Markdown* cell and answer the following: What are the two headers? What do you think each of them means? Go to the following website: <span style = \"color:blue\"><u>https://www.ncbi.nlm.nih.gov/gene/</u></span>, and type in the name of the first marker gene you see. Read about this gene and what it does. Repeat this for the second marker gene you see."
      ],
      "metadata": {
        "id": "wMxDwv1JNF_-"
      }
    },
    {
      "cell_type": "markdown",
      "source": [
        "\n",
        "\n",
        "*   Marker: type of marger gene\n",
        "*   ISI: interspike interval\n",
        "\n",
        "\n",
        "*   SST: Somatostatin: inhibits release of numerous secondary hormones and is important regulator of endocrine system\n",
        "*   PVALB: paravalbumin: high affinity calcium-ion binding protein involved in muscle relaxation\n",
        "\n",
        "\n",
        "\n"
      ],
      "metadata": {
        "id": "fE15H9qZ6R_u"
      }
    },
    {
      "cell_type": "code",
      "source": [
        "# Look at your cell_types variable here\n",
        "cell_types\n"
      ],
      "metadata": {
        "id": "vWM8B9HwQnDK",
        "colab": {
          "base_uri": "https://localhost:8080/",
          "height": 424
        },
        "outputId": "04bb43a0-9fb1-47ec-8a1b-05c1889f5b3a"
      },
      "execution_count": 3,
      "outputs": [
        {
          "output_type": "execute_result",
          "data": {
            "text/plain": [
              "    Marker        ISI\n",
              "0      Sst  77.337143\n",
              "1      Sst  44.145000\n",
              "2      Sst   7.840000\n",
              "3      Sst  73.090000\n",
              "4      Sst  63.513333\n",
              "..     ...        ...\n",
              "135  Pvalb  10.762273\n",
              "136  Pvalb  18.110588\n",
              "137  Pvalb  10.169565\n",
              "138  Pvalb  12.216667\n",
              "139  Pvalb  22.526667\n",
              "\n",
              "[140 rows x 2 columns]"
            ],
            "text/html": [
              "\n",
              "  <div id=\"df-e2fcd79b-7867-42a7-b268-0b5f59c0893e\" class=\"colab-df-container\">\n",
              "    <div>\n",
              "<style scoped>\n",
              "    .dataframe tbody tr th:only-of-type {\n",
              "        vertical-align: middle;\n",
              "    }\n",
              "\n",
              "    .dataframe tbody tr th {\n",
              "        vertical-align: top;\n",
              "    }\n",
              "\n",
              "    .dataframe thead th {\n",
              "        text-align: right;\n",
              "    }\n",
              "</style>\n",
              "<table border=\"1\" class=\"dataframe\">\n",
              "  <thead>\n",
              "    <tr style=\"text-align: right;\">\n",
              "      <th></th>\n",
              "      <th>Marker</th>\n",
              "      <th>ISI</th>\n",
              "    </tr>\n",
              "  </thead>\n",
              "  <tbody>\n",
              "    <tr>\n",
              "      <th>0</th>\n",
              "      <td>Sst</td>\n",
              "      <td>77.337143</td>\n",
              "    </tr>\n",
              "    <tr>\n",
              "      <th>1</th>\n",
              "      <td>Sst</td>\n",
              "      <td>44.145000</td>\n",
              "    </tr>\n",
              "    <tr>\n",
              "      <th>2</th>\n",
              "      <td>Sst</td>\n",
              "      <td>7.840000</td>\n",
              "    </tr>\n",
              "    <tr>\n",
              "      <th>3</th>\n",
              "      <td>Sst</td>\n",
              "      <td>73.090000</td>\n",
              "    </tr>\n",
              "    <tr>\n",
              "      <th>4</th>\n",
              "      <td>Sst</td>\n",
              "      <td>63.513333</td>\n",
              "    </tr>\n",
              "    <tr>\n",
              "      <th>...</th>\n",
              "      <td>...</td>\n",
              "      <td>...</td>\n",
              "    </tr>\n",
              "    <tr>\n",
              "      <th>135</th>\n",
              "      <td>Pvalb</td>\n",
              "      <td>10.762273</td>\n",
              "    </tr>\n",
              "    <tr>\n",
              "      <th>136</th>\n",
              "      <td>Pvalb</td>\n",
              "      <td>18.110588</td>\n",
              "    </tr>\n",
              "    <tr>\n",
              "      <th>137</th>\n",
              "      <td>Pvalb</td>\n",
              "      <td>10.169565</td>\n",
              "    </tr>\n",
              "    <tr>\n",
              "      <th>138</th>\n",
              "      <td>Pvalb</td>\n",
              "      <td>12.216667</td>\n",
              "    </tr>\n",
              "    <tr>\n",
              "      <th>139</th>\n",
              "      <td>Pvalb</td>\n",
              "      <td>22.526667</td>\n",
              "    </tr>\n",
              "  </tbody>\n",
              "</table>\n",
              "<p>140 rows × 2 columns</p>\n",
              "</div>\n",
              "    <div class=\"colab-df-buttons\">\n",
              "\n",
              "  <div class=\"colab-df-container\">\n",
              "    <button class=\"colab-df-convert\" onclick=\"convertToInteractive('df-e2fcd79b-7867-42a7-b268-0b5f59c0893e')\"\n",
              "            title=\"Convert this dataframe to an interactive table.\"\n",
              "            style=\"display:none;\">\n",
              "\n",
              "  <svg xmlns=\"http://www.w3.org/2000/svg\" height=\"24px\" viewBox=\"0 -960 960 960\">\n",
              "    <path d=\"M120-120v-720h720v720H120Zm60-500h600v-160H180v160Zm220 220h160v-160H400v160Zm0 220h160v-160H400v160ZM180-400h160v-160H180v160Zm440 0h160v-160H620v160ZM180-180h160v-160H180v160Zm440 0h160v-160H620v160Z\"/>\n",
              "  </svg>\n",
              "    </button>\n",
              "\n",
              "  <style>\n",
              "    .colab-df-container {\n",
              "      display:flex;\n",
              "      gap: 12px;\n",
              "    }\n",
              "\n",
              "    .colab-df-convert {\n",
              "      background-color: #E8F0FE;\n",
              "      border: none;\n",
              "      border-radius: 50%;\n",
              "      cursor: pointer;\n",
              "      display: none;\n",
              "      fill: #1967D2;\n",
              "      height: 32px;\n",
              "      padding: 0 0 0 0;\n",
              "      width: 32px;\n",
              "    }\n",
              "\n",
              "    .colab-df-convert:hover {\n",
              "      background-color: #E2EBFA;\n",
              "      box-shadow: 0px 1px 2px rgba(60, 64, 67, 0.3), 0px 1px 3px 1px rgba(60, 64, 67, 0.15);\n",
              "      fill: #174EA6;\n",
              "    }\n",
              "\n",
              "    .colab-df-buttons div {\n",
              "      margin-bottom: 4px;\n",
              "    }\n",
              "\n",
              "    [theme=dark] .colab-df-convert {\n",
              "      background-color: #3B4455;\n",
              "      fill: #D2E3FC;\n",
              "    }\n",
              "\n",
              "    [theme=dark] .colab-df-convert:hover {\n",
              "      background-color: #434B5C;\n",
              "      box-shadow: 0px 1px 3px 1px rgba(0, 0, 0, 0.15);\n",
              "      filter: drop-shadow(0px 1px 2px rgba(0, 0, 0, 0.3));\n",
              "      fill: #FFFFFF;\n",
              "    }\n",
              "  </style>\n",
              "\n",
              "    <script>\n",
              "      const buttonEl =\n",
              "        document.querySelector('#df-e2fcd79b-7867-42a7-b268-0b5f59c0893e button.colab-df-convert');\n",
              "      buttonEl.style.display =\n",
              "        google.colab.kernel.accessAllowed ? 'block' : 'none';\n",
              "\n",
              "      async function convertToInteractive(key) {\n",
              "        const element = document.querySelector('#df-e2fcd79b-7867-42a7-b268-0b5f59c0893e');\n",
              "        const dataTable =\n",
              "          await google.colab.kernel.invokeFunction('convertToInteractive',\n",
              "                                                    [key], {});\n",
              "        if (!dataTable) return;\n",
              "\n",
              "        const docLinkHtml = 'Like what you see? Visit the ' +\n",
              "          '<a target=\"_blank\" href=https://colab.research.google.com/notebooks/data_table.ipynb>data table notebook</a>'\n",
              "          + ' to learn more about interactive tables.';\n",
              "        element.innerHTML = '';\n",
              "        dataTable['output_type'] = 'display_data';\n",
              "        await google.colab.output.renderOutput(dataTable, element);\n",
              "        const docLink = document.createElement('div');\n",
              "        docLink.innerHTML = docLinkHtml;\n",
              "        element.appendChild(docLink);\n",
              "      }\n",
              "    </script>\n",
              "  </div>\n",
              "\n",
              "\n",
              "<div id=\"df-7e8a6e24-755d-4583-adc4-b88001f5bb60\">\n",
              "  <button class=\"colab-df-quickchart\" onclick=\"quickchart('df-7e8a6e24-755d-4583-adc4-b88001f5bb60')\"\n",
              "            title=\"Suggest charts\"\n",
              "            style=\"display:none;\">\n",
              "\n",
              "<svg xmlns=\"http://www.w3.org/2000/svg\" height=\"24px\"viewBox=\"0 0 24 24\"\n",
              "     width=\"24px\">\n",
              "    <g>\n",
              "        <path d=\"M19 3H5c-1.1 0-2 .9-2 2v14c0 1.1.9 2 2 2h14c1.1 0 2-.9 2-2V5c0-1.1-.9-2-2-2zM9 17H7v-7h2v7zm4 0h-2V7h2v10zm4 0h-2v-4h2v4z\"/>\n",
              "    </g>\n",
              "</svg>\n",
              "  </button>\n",
              "\n",
              "<style>\n",
              "  .colab-df-quickchart {\n",
              "      --bg-color: #E8F0FE;\n",
              "      --fill-color: #1967D2;\n",
              "      --hover-bg-color: #E2EBFA;\n",
              "      --hover-fill-color: #174EA6;\n",
              "      --disabled-fill-color: #AAA;\n",
              "      --disabled-bg-color: #DDD;\n",
              "  }\n",
              "\n",
              "  [theme=dark] .colab-df-quickchart {\n",
              "      --bg-color: #3B4455;\n",
              "      --fill-color: #D2E3FC;\n",
              "      --hover-bg-color: #434B5C;\n",
              "      --hover-fill-color: #FFFFFF;\n",
              "      --disabled-bg-color: #3B4455;\n",
              "      --disabled-fill-color: #666;\n",
              "  }\n",
              "\n",
              "  .colab-df-quickchart {\n",
              "    background-color: var(--bg-color);\n",
              "    border: none;\n",
              "    border-radius: 50%;\n",
              "    cursor: pointer;\n",
              "    display: none;\n",
              "    fill: var(--fill-color);\n",
              "    height: 32px;\n",
              "    padding: 0;\n",
              "    width: 32px;\n",
              "  }\n",
              "\n",
              "  .colab-df-quickchart:hover {\n",
              "    background-color: var(--hover-bg-color);\n",
              "    box-shadow: 0 1px 2px rgba(60, 64, 67, 0.3), 0 1px 3px 1px rgba(60, 64, 67, 0.15);\n",
              "    fill: var(--button-hover-fill-color);\n",
              "  }\n",
              "\n",
              "  .colab-df-quickchart-complete:disabled,\n",
              "  .colab-df-quickchart-complete:disabled:hover {\n",
              "    background-color: var(--disabled-bg-color);\n",
              "    fill: var(--disabled-fill-color);\n",
              "    box-shadow: none;\n",
              "  }\n",
              "\n",
              "  .colab-df-spinner {\n",
              "    border: 2px solid var(--fill-color);\n",
              "    border-color: transparent;\n",
              "    border-bottom-color: var(--fill-color);\n",
              "    animation:\n",
              "      spin 1s steps(1) infinite;\n",
              "  }\n",
              "\n",
              "  @keyframes spin {\n",
              "    0% {\n",
              "      border-color: transparent;\n",
              "      border-bottom-color: var(--fill-color);\n",
              "      border-left-color: var(--fill-color);\n",
              "    }\n",
              "    20% {\n",
              "      border-color: transparent;\n",
              "      border-left-color: var(--fill-color);\n",
              "      border-top-color: var(--fill-color);\n",
              "    }\n",
              "    30% {\n",
              "      border-color: transparent;\n",
              "      border-left-color: var(--fill-color);\n",
              "      border-top-color: var(--fill-color);\n",
              "      border-right-color: var(--fill-color);\n",
              "    }\n",
              "    40% {\n",
              "      border-color: transparent;\n",
              "      border-right-color: var(--fill-color);\n",
              "      border-top-color: var(--fill-color);\n",
              "    }\n",
              "    60% {\n",
              "      border-color: transparent;\n",
              "      border-right-color: var(--fill-color);\n",
              "    }\n",
              "    80% {\n",
              "      border-color: transparent;\n",
              "      border-right-color: var(--fill-color);\n",
              "      border-bottom-color: var(--fill-color);\n",
              "    }\n",
              "    90% {\n",
              "      border-color: transparent;\n",
              "      border-bottom-color: var(--fill-color);\n",
              "    }\n",
              "  }\n",
              "</style>\n",
              "\n",
              "  <script>\n",
              "    async function quickchart(key) {\n",
              "      const quickchartButtonEl =\n",
              "        document.querySelector('#' + key + ' button');\n",
              "      quickchartButtonEl.disabled = true;  // To prevent multiple clicks.\n",
              "      quickchartButtonEl.classList.add('colab-df-spinner');\n",
              "      try {\n",
              "        const charts = await google.colab.kernel.invokeFunction(\n",
              "            'suggestCharts', [key], {});\n",
              "      } catch (error) {\n",
              "        console.error('Error during call to suggestCharts:', error);\n",
              "      }\n",
              "      quickchartButtonEl.classList.remove('colab-df-spinner');\n",
              "      quickchartButtonEl.classList.add('colab-df-quickchart-complete');\n",
              "    }\n",
              "    (() => {\n",
              "      let quickchartButtonEl =\n",
              "        document.querySelector('#df-7e8a6e24-755d-4583-adc4-b88001f5bb60 button');\n",
              "      quickchartButtonEl.style.display =\n",
              "        google.colab.kernel.accessAllowed ? 'block' : 'none';\n",
              "    })();\n",
              "  </script>\n",
              "</div>\n",
              "    </div>\n",
              "  </div>\n"
            ]
          },
          "metadata": {},
          "execution_count": 3
        }
      ]
    },
    {
      "cell_type": "markdown",
      "source": [
        "It might be interesting to compare ISIs between the two cell types in your dataset. Recall from our lecture that ISIs are often viewed as a histogram - a type of graph that plots the number of observations for each value (or \"binned\" value)\n",
        "\n",
        "<img src = 'https://drive.google.com/uc?id=1vAoypW_RQ-BzwUgsZH8nHKPds9AoKm9X'>\n"
      ],
      "metadata": {
        "id": "iob-XbrGQivc"
      }
    },
    {
      "cell_type": "markdown",
      "source": [
        "Let's do this with our data. First, we need to make sure we have the `matplotlib` package installed, which will let us create the histograms"
      ],
      "metadata": {
        "id": "ho1YjmGoTBEO"
      }
    },
    {
      "cell_type": "code",
      "source": [
        "# Run this code to install matplotlib\n",
        "try:\n",
        "    import matplotlib\n",
        "    print('matplotlib already installed')\n",
        "except ImportError as e:\n",
        "    !pip install matplotlib"
      ],
      "metadata": {
        "id": "uxQswSNyWGWe",
        "colab": {
          "base_uri": "https://localhost:8080/"
        },
        "outputId": "723c76cd-578f-41e4-a45b-5c5c23be81af"
      },
      "execution_count": 4,
      "outputs": [
        {
          "output_type": "stream",
          "name": "stdout",
          "text": [
            "matplotlib already installed\n"
          ]
        }
      ]
    },
    {
      "cell_type": "markdown",
      "source": [
        "Now, run the *Code* cell below to create two histograms - one for *Pvalb* neurons and one for *Sst* neurons"
      ],
      "metadata": {
        "id": "FPPdAz9kWUe8"
      }
    },
    {
      "cell_type": "code",
      "source": [
        "# Let's make some histograms!\n",
        "\n",
        "cell_types['ISI'].hist(by = cell_types['Marker'])\n"
      ],
      "metadata": {
        "id": "BD-ynkBFVCQf",
        "colab": {
          "base_uri": "https://localhost:8080/",
          "height": 491
        },
        "outputId": "1b24db69-ef9a-43e7-c40b-fde5c18ac645"
      },
      "execution_count": 5,
      "outputs": [
        {
          "output_type": "execute_result",
          "data": {
            "text/plain": [
              "array([<Axes: title={'center': 'Pvalb'}>, <Axes: title={'center': 'Sst'}>],\n",
              "      dtype=object)"
            ]
          },
          "metadata": {},
          "execution_count": 5
        },
        {
          "output_type": "display_data",
          "data": {
            "text/plain": [
              "<Figure size 640x480 with 2 Axes>"
            ],
            "image/png": "[encoded data removed]"
          },
          "metadata": {}
        }
      ]
    },
    {
      "cell_type": "markdown",
      "source": [
        "<b>Task:</b> Answer the following in a *Markdown Cell* below: What do you notice about your two histograms? Do they look different? Take note of the axes - what do you think is represented on the x-axis? What is represented on the y-axis? Are the x-axis values the same between the two histograms?"
      ],
      "metadata": {
        "id": "VOTOrnLuXfPQ"
      }
    },
    {
      "cell_type": "markdown",
      "source": [
        "\n",
        "\n",
        "*   On the x-axis is the ISI, the y-axis is the frequency\n",
        "*   The x-values are not the same, *Sst has a higher range*\n",
        "*   They have similar trends, Pvalb appears to have more data and more variability\n",
        "* **Pvalb is faster**\n",
        "\n"
      ],
      "metadata": {
        "id": "VrUd_eoM8iSH"
      }
    },
    {
      "cell_type": "markdown",
      "source": [
        "## Edit this cell!"
      ],
      "metadata": {
        "id": "XZLp3dZ0Xtx6"
      }
    },
    {
      "cell_type": "markdown",
      "source": [
        "Let's re-plot our histograms, and make the x-axis ranges the same. Let's also create x-axis and y-axis labels for our plots."
      ],
      "metadata": {
        "id": "G9QdBJURXw-P"
      }
    },
    {
      "cell_type": "code",
      "source": [
        "# Let's re-make our histograms!\n",
        "\n",
        "axes = cell_types['ISI'].hist(by = cell_types['Marker'])\n",
        "\n",
        "#Make x-ranges the same\n",
        "\n",
        "axes[0].set_xlim(0,250)\n",
        "axes[1].set_xlim(0,250)\n",
        "\n",
        "# Enter appropriate labels for the x-axis and y-axis of the first histogram inside of the parentheses - remember to use '' when creating a string!\n",
        "\n",
        "#Labels on First Histogram\n",
        "\n",
        "axes[0].set_ylabel('Frequency')\n",
        "axes[0].set_xlabel('ISI')\n",
        "\n",
        "#Labels on Second Histogram\n",
        "axes[1].set_ylabel('Frequency')\n",
        "axes[1].set_xlabel('ISI')"
      ],
      "metadata": {
        "id": "YlMjvXPQYZdF",
        "colab": {
          "base_uri": "https://localhost:8080/",
          "height": 492
        },
        "outputId": "3b7b92ef-1b52-470a-9442-6612f7aaa708"
      },
      "execution_count": 8,
      "outputs": [
        {
          "output_type": "execute_result",
          "data": {
            "text/plain": [
              "Text(0.5, 0, 'ISI')"
            ]
          },
          "metadata": {},
          "execution_count": 8
        },
        {
          "output_type": "display_data",
          "data": {
            "text/plain": [
              "<Figure size 640x480 with 2 Axes>"
            ],
            "image/png": "[encoded data removed]"
          },
          "metadata": {}
        }
      ]
    }
  ]
}