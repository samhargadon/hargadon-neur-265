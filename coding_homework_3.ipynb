{
  "nbformat": 4,
  "nbformat_minor": 0,
  "metadata": {
    "colab": {
      "provenance": [],
      "include_colab_link": true
    },
    "kernelspec": {
      "name": "python3",
      "display_name": "Python 3"
    },
    "language_info": {
      "name": "python"
    }
  },
  "cells": [
    {
      "cell_type": "markdown",
      "metadata": {
        "id": "view-in-github",
        "colab_type": "text"
      },
      "source": [
        "<a href=\"https://colab.research.google.com/github/samhargadon/hargadon-neur-265/blob/main/coding_homework_3.ipynb\" target=\"_parent\"><img src=\"https://colab.research.google.com/assets/colab-badge.svg\" alt=\"Open In Colab\"/></a>"
      ]
    },
    {
      "cell_type": "markdown",
      "source": [
        "# Coding Homework #3\n",
        "\n",
        "**Instructions**\n",
        "\n",
        "1. Make a *Markdown Cell* that contains the following information:\n",
        "- Your name (small header)\n",
        "- The name of this class (italicized)\n",
        "- The date (bolded)\n",
        "\n",
        "2. Make a *Code Cell* that imports <code>numpy</code> as <code>np</code>, <code>matplotlib.pyplot</code> as <code>plt</code>, and <code>scipy.stats</code> as <code>stats</code>.\n",
        "\n",
        "3. Make a *Code Cell* that imports your <code>v_rest_sst.csv</code> and <code>v_rest_pvalb.csv</code> variables as <code>numpy</code> arrays called <code>v_rest_sst</code> and <code>v_rest_pvalb</code> respectively.\n",
        "\n",
        "4. Make a *Code Cell* that does the following:\n",
        "  \n",
        "  a. Finds the means of <code>v_rest_sst</code> and <code>v_rest_pvalb</code>.\n",
        "  \n",
        "  b. Performs a t-test to test the null hypothesis that the means of <code>v_rest_sst</code> and <code>v_rest_pvalb</code> come from different distributions.\n",
        "\n",
        "  c. Plots a histogram of <code>v_rest_sst</code> in one subplot, and a histogram of <code>v_rest_pvalb</code> in another subplot if the p-value of the t-test is > 0.05. You can make two subplots using the syntax <code>fig, ax = plt.subplots(1,1)</code>. You should use an <code>if</code> statement to accomplish this.\n",
        "\n",
        "  d. Labels the y-axis and x-axis of your histograms (recall that <code>ax.ylabel</code> and <code>ax.xlabel</code> are the methods that let you accomplish this).\n",
        "\n",
        "5. Make a *Code Cell* that defines a function called <code>vrestHist()</code>. This function should execute the code in step 4 when called.\n",
        "\n",
        "6. Make a *Code Cell* that calls <code>vrestHist()</code>.\n",
        "\n",
        "7. Make a *Code Cell* that does the following:\n",
        "\n",
        "    a. Loops through each column of <code>v_rest_sst</code> and <code>v_rest_pvalb</code> and makes a scatter plot with <code>v_rest_sst</code> on the x-axis and <code>v_rest_pvalb</code> on the y-axis.\n",
        "\n",
        "    b. Each iteration of your loop should plot a different point on the scatter plot. At the end of your loop, you should have only one scatter plot with number of data points equal to the length of <code>v_rest_sst</code> and <code>v_rest_pvalb</code>.\n",
        "\n",
        "    c. Your loop should plot a <font color = 'red'>red</font> dot if *both* values in <code>v_rest_sst</code> and <code>v_rest_pvalb</code> are greater than -60, a <font color = 'green'>green</font> dot if values in <code>v_rest_sst</code> are greater than -60, but values in <code>v_rest_pvalb</code> are less than -60, a <font color = 'blue'>blue</font> dot if *both* values in <code>v_rest_sst</code> and <code>v_rest_pvalb</code> are less than -60, and a <font color = 'purple'>purple</font> dot if values in <code>v_rest_sst</code> are less than -60, but values in <code>v_rest_pvalb</code> are more than -60.\n",
        "\n",
        "    d. Labels your y-axis and your x-axis (this code should be outside of your loop).\n",
        "\n",
        "8. Make a *Code Cell* that defines a function called <code>vrestScatter()</code>. This function should execute the code in step 7 when called.\n",
        "\n",
        "9. Save a copy of this notebook to your GitHub repo with the title \"coding_homework_3.ipynb\"."
      ],
      "metadata": {
        "id": "zbzMCJlMN3ph"
      }
    },
    {
      "cell_type": "markdown",
      "source": [
        "### Samantha Hargadon\n",
        "*Neural Data Analysis*\n",
        "\n",
        "**3/1/24**"
      ],
      "metadata": {
        "id": "j1pvoaDCGV-k"
      }
    },
    {
      "cell_type": "code",
      "source": [
        "# Import programs\n",
        "import numpy as np\n",
        "import matplotlib.pyplot as plt\n",
        "import scipy.stats as stats"
      ],
      "metadata": {
        "id": "wMrHBM-zGoMc"
      },
      "execution_count": 35,
      "outputs": []
    },
    {
      "cell_type": "code",
      "source": [
        "# Import csv files\n",
        "\n",
        "url1 = 'https://raw.githubusercontent.com/samhargadon/neural-data-analysis/main/v_rest_sst.csv'\n",
        "url2 = 'https://raw.githubusercontent.com/samhargadon/neural-data-analysis/main/v_rest_pvalb.csv'\n",
        "\n",
        "# Turn csv files into Numpy Arrays\n",
        "\n",
        "v_rest_sst = np.loadtxt(url1)\n",
        "v_rest_pvalb = np.loadtxt(url2)"
      ],
      "metadata": {
        "id": "TwosQXSFGzf3"
      },
      "execution_count": 36,
      "outputs": []
    },
    {
      "cell_type": "code",
      "source": [
        "# Find means\n",
        "mean_sst = v_rest_sst.mean()\n",
        "mean_pvalb = v_rest_pvalb.mean()\n",
        "\n",
        "# Perform a t-test to test they come from different distributions\n",
        "t_stat, p_value = stats.ttest_ind(v_rest_sst, v_rest_pvalb)\n",
        "\n",
        "# Plot histograms in two different subplots if p > 0.05\n",
        "if p_value > 0.05:\n",
        "  fig, ax = plt.subplots(1,2, figsize = (15,5))\n",
        "\n",
        "  ax[0].hist(v_rest_sst)\n",
        "  ax[0].set_xlabel('V Rest Sst')\n",
        "  ax[0].set_ylabel('Frequency')\n",
        "\n",
        "  ax[1].hist(v_rest_pvalb)\n",
        "  ax[1].set_xlabel('V Rest Pvalb')\n",
        "  ax[1].set_ylabel('Frequency')\n",
        "\n",
        "  plt.show()\n",
        "else:\n",
        "  print(str(p_value) + ' is < 0.05.')\n"
      ],
      "metadata": {
        "colab": {
          "base_uri": "https://localhost:8080/"
        },
        "id": "vxSC9xhJHECO",
        "outputId": "65eaffd0-de71-4a40-abde-64bbc718e4d4"
      },
      "execution_count": 37,
      "outputs": [
        {
          "output_type": "stream",
          "name": "stdout",
          "text": [
            "7.159828660199036e-09 is < 0.05.\n"
          ]
        }
      ]
    },
    {
      "cell_type": "code",
      "source": [
        "# Define function to execute step 4\n",
        "def vrestHist():\n",
        "  \"\"\"\n",
        "  This is a function that will find the means of v_rest_sst and v_rest_pvalb, perform a t-test to test if they come from different distributions, and plots the histograms if the pvalue is > 0.05\n",
        "  \"\"\"\n",
        "\n",
        "  # Find means\n",
        "  mean_sst = v_rest_sst.mean()\n",
        "  mean_pvalb = v_rest_pvalb.mean()\n",
        "\n",
        "  # Perform a t-test to test they come from different distributions\n",
        "  t_stat, p_value = stats.ttest_ind(v_rest_sst, v_rest_pvalb)\n",
        "\n",
        "  # Plot histograms in two different subplots if p > 0.05\n",
        "  if p_value > 0.05:\n",
        "    fig, ax = plt.subplots(1,2, figsize = (15,5))\n",
        "\n",
        "    ax[0].hist(v_rest_sst)\n",
        "    ax[0].set_xlabel('V Rest Sst')\n",
        "    ax[0].set_ylabel('Frequency')\n",
        "\n",
        "    ax[1].hist(v_rest_pvalb)\n",
        "    ax[1].set_xlabel('V Rest Pvalb')\n",
        "    ax[1].set_ylabel('Frequency')\n",
        "\n",
        "    plt.show()\n",
        "  else:\n",
        "    print(str(p_value) + ' is < 0.05.')\n",
        "\n"
      ],
      "metadata": {
        "id": "vQcvg120Hca5"
      },
      "execution_count": 38,
      "outputs": []
    },
    {
      "cell_type": "code",
      "source": [
        "# Call the function\n",
        "vrestHist()"
      ],
      "metadata": {
        "id": "g_HkycbfHiYH",
        "colab": {
          "base_uri": "https://localhost:8080/"
        },
        "outputId": "a798401d-2bff-4c74-fb9f-f2f028061f3a"
      },
      "execution_count": 39,
      "outputs": [
        {
          "output_type": "stream",
          "name": "stdout",
          "text": [
            "7.159828660199036e-09 is < 0.05.\n"
          ]
        }
      ]
    },
    {
      "cell_type": "code",
      "source": [
        "# Make scatter plot\n",
        "plt.figure()\n",
        "\n",
        "# Loop through each column and plot point\n",
        "for i in range(len(v_rest_sst)):\n",
        "\n",
        "  sst = v_rest_sst[i]\n",
        "  pvalb = v_rest_pvalb[i]\n",
        "\n",
        "  if sst > - 60 and pvalb > -60:\n",
        "    plt.scatter(sst, pvalb, color = 'red')\n",
        "  elif sst > - 60 and pvalb < - 60:\n",
        "    plt.scatter(sst, pvalb, color = 'green')\n",
        "  elif sst < - 60 and pvalb < - 60:\n",
        "    plt.scatter(sst, pvalb, color = 'blue')\n",
        "  elif sst < - 60 and pvalb > - 60:\n",
        "    plt.scatter(sst, pvalb, color = 'purple')\n",
        "\n",
        "# Label axis\n",
        "plt.xlabel('V Rest Sst')\n",
        "plt.ylabel('V Rest Pvalb')\n",
        "\n",
        "# Show plot\n",
        "plt.show()\n"
      ],
      "metadata": {
        "id": "v-6fH4NhHlV-",
        "colab": {
          "base_uri": "https://localhost:8080/",
          "height": 449
        },
        "outputId": "8d881137-a67c-40c7-83db-23e2a5f8b7c9"
      },
      "execution_count": 40,
      "outputs": [
        {
          "output_type": "display_data",
          "data": {
            "text/plain": [
              "<Figure size 640x480 with 1 Axes>"
            ],
            "image/png": "[encoded data removed]"
          },
          "metadata": {}
        }
      ]
    },
    {
      "cell_type": "code",
      "source": [
        "# Create function for step 7\n",
        "def vrestScatter():\n",
        "  \"\"\"\n",
        "  This is a function that makes a scatter plot of V Rest Sst vs V Rest Pvalb, and color codes based on > or < -60.\n",
        "  \"\"\"\n",
        " # Make scatter plot\n",
        "  plt.figure()\n",
        "\n",
        "  # Loop through each column and plot point\n",
        "  for i in range(len(v_rest_sst)):\n",
        "\n",
        "    sst = v_rest_sst[i]\n",
        "    pvalb = v_rest_pvalb[i]\n",
        "\n",
        "    if sst > - 60 and pvalb > -60:\n",
        "      plt.scatter(sst, pvalb, color = 'red')\n",
        "    elif sst > - 60 and pvalb < - 60:\n",
        "      plt.scatter(sst, pvalb, color = 'green')\n",
        "    elif sst < - 60 and pvalb < - 60:\n",
        "      plt.scatter(sst, pvalb, color = 'blue')\n",
        "    elif sst < - 60 and pvalb > - 60:\n",
        "      plt.scatter(sst, pvalb, color = 'purple')\n",
        "\n",
        "  # Label axis\n",
        "  plt.xlabel('V Rest Sst')\n",
        "  plt.ylabel('V Rest Pvalb')\n",
        "\n",
        "  # Show plot\n",
        "  plt.show()\n",
        ""
      ],
      "metadata": {
        "id": "oc4ueNuMMyi4"
      },
      "execution_count": 41,
      "outputs": []
    }
  ]
}